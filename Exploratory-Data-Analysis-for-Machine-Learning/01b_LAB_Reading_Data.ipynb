{
    "cells": [
        {
            "cell_type": "markdown",
            "metadata": {},
            "source": "# Machine Learning Foundation\n\n## Section 1, Part b: Reading Data Lab"
        },
        {
            "cell_type": "code",
            "execution_count": 1,
            "metadata": {},
            "outputs": [],
            "source": "# Imports\nimport sqlite3 as sq3\nimport pandas.io.sql as pds\nimport pandas as pd\nimport types\nimport pandas as pd\nfrom botocore.client import Config\nimport ibm_boto3"
        },
        {
            "cell_type": "markdown",
            "metadata": {},
            "source": "## Lab Exercise: Reading in database files\n\n - Create a variable, `path`, containing the path to the `baseball.db` contained in `resources/`\n - Create a connection, `con`, that is connected to database at `path`\n - Create a variable, `query`, containing a SQL query which reads in all data from the `allstarfull` table\n - Create a variable, `observations`, by using pandas' [read_sql](https://pandas.pydata.org/pandas-docs/stable/reference/api/pandas.read_sql.html)\n\n### Optional\n - Create a variable, `tables`, which reads in all data from the table `sqlite_master`\n - Pretend that you were interesting in creating a new baseball hall of fame. Join and analyze the tables to evaluate the top 3 all time best baseball players."
        },
        {
            "cell_type": "markdown",
            "metadata": {},
            "source": "Will be using WS Studio Notebook pull for the baseball.db file, use Credentials when loading it in"
        },
        {
            "cell_type": "markdown",
            "metadata": {},
            "source": "For extra help, see: https://medium.com/ibm-data-science-experience/working-with-ibm-cloud-object-storage-in-python-fe0ba8667d5f"
        },
        {
            "cell_type": "code",
            "execution_count": 2,
            "metadata": {},
            "outputs": [],
            "source": "# The code was removed by Watson Studio for sharing."
        },
        {
            "cell_type": "code",
            "execution_count": 20,
            "metadata": {},
            "outputs": [],
            "source": "# make sure the credentials below in the def match the credentials you loaded above\ndef download_file_cos(credentials,local_file_name,key):  \n    cos = ibm_boto3.client(service_name='s3',\n    ibm_api_key_id=credentials['IBM_API_KEY_ID'],\n    ibm_service_instance_id=credentials['IAM_SERVICE_ID'],\n    ibm_auth_endpoint=credentials['IBM_AUTH_ENDPOINT'],\n    config=Config(signature_version='oauth'),\n    endpoint_url=credentials['ENDPOINT'])\n    try:\n        res=cos.download_file(Bucket=credentials['BUCKET'],Key=key,Filename=local_file_name)\n    except Exception as e:\n        print(Exception, e)\n    else:\n        print('The file %s has been downloaded into this notebook' % key)"
        },
        {
            "cell_type": "code",
            "execution_count": 21,
            "metadata": {},
            "outputs": [
                {
                    "name": "stdout",
                    "output_type": "stream",
                    "text": "The file baseball.db has been downloaded into this notebook\n"
                }
            ],
            "source": "# For local file, input the name of what you want the file to be, for the key put name of the file on Cloud Object Storage\n# it would be best if they match for ease\ndownload_file_cos(credentials,'baseball.db','baseball.db')"
        },
        {
            "cell_type": "code",
            "execution_count": 22,
            "metadata": {},
            "outputs": [],
            "source": "### BEGIN SOLUTION\n# Create a variable, `path`, containing the path to the `baseball.db` contained in `resources/`\npath = 'baseball.db'\n\n# Create a connection, `con`, that is connected to database at `path`\ncon = sq3.Connection(path)"
        },
        {
            "cell_type": "code",
            "execution_count": 23,
            "metadata": {},
            "outputs": [
                {
                    "name": "stdout",
                    "output_type": "stream",
                    "text": "[('allstarfull',), ('schools',), ('batting',)]\n"
                }
            ],
            "source": "def sql_fetch(con):\n\n    cursorObj = con.cursor()\n\n    cursorObj.execute('SELECT name from sqlite_master where type= \"table\"')\n\n    print(cursorObj.fetchall())\n\nsql_fetch(con)"
        },
        {
            "cell_type": "code",
            "execution_count": 24,
            "metadata": {},
            "outputs": [
                {
                    "data": {
                        "text/html": "<div>\n<style scoped>\n    .dataframe tbody tr th:only-of-type {\n        vertical-align: middle;\n    }\n\n    .dataframe tbody tr th {\n        vertical-align: top;\n    }\n\n    .dataframe thead th {\n        text-align: right;\n    }\n</style>\n<table border=\"1\" class=\"dataframe\">\n  <thead>\n    <tr style=\"text-align: right;\">\n      <th></th>\n      <th>index</th>\n      <th>playerID</th>\n      <th>yearID</th>\n      <th>gameNum</th>\n      <th>gameID</th>\n      <th>teamID</th>\n      <th>lgID</th>\n      <th>GP</th>\n      <th>startingPos</th>\n    </tr>\n  </thead>\n  <tbody>\n    <tr>\n      <th>0</th>\n      <td>0</td>\n      <td>gomezle01</td>\n      <td>1933</td>\n      <td>0</td>\n      <td>ALS193307060</td>\n      <td>NYA</td>\n      <td>AL</td>\n      <td>1.0</td>\n      <td>1.0</td>\n    </tr>\n    <tr>\n      <th>1</th>\n      <td>1</td>\n      <td>ferreri01</td>\n      <td>1933</td>\n      <td>0</td>\n      <td>ALS193307060</td>\n      <td>BOS</td>\n      <td>AL</td>\n      <td>1.0</td>\n      <td>2.0</td>\n    </tr>\n    <tr>\n      <th>2</th>\n      <td>2</td>\n      <td>gehrilo01</td>\n      <td>1933</td>\n      <td>0</td>\n      <td>ALS193307060</td>\n      <td>NYA</td>\n      <td>AL</td>\n      <td>1.0</td>\n      <td>3.0</td>\n    </tr>\n    <tr>\n      <th>3</th>\n      <td>3</td>\n      <td>gehrich01</td>\n      <td>1933</td>\n      <td>0</td>\n      <td>ALS193307060</td>\n      <td>DET</td>\n      <td>AL</td>\n      <td>1.0</td>\n      <td>4.0</td>\n    </tr>\n    <tr>\n      <th>4</th>\n      <td>4</td>\n      <td>dykesji01</td>\n      <td>1933</td>\n      <td>0</td>\n      <td>ALS193307060</td>\n      <td>CHA</td>\n      <td>AL</td>\n      <td>1.0</td>\n      <td>5.0</td>\n    </tr>\n  </tbody>\n</table>\n</div>",
                        "text/plain": "   index   playerID  yearID  gameNum        gameID teamID lgID   GP  \\\n0      0  gomezle01    1933        0  ALS193307060    NYA   AL  1.0   \n1      1  ferreri01    1933        0  ALS193307060    BOS   AL  1.0   \n2      2  gehrilo01    1933        0  ALS193307060    NYA   AL  1.0   \n3      3  gehrich01    1933        0  ALS193307060    DET   AL  1.0   \n4      4  dykesji01    1933        0  ALS193307060    CHA   AL  1.0   \n\n   startingPos  \n0          1.0  \n1          2.0  \n2          3.0  \n3          4.0  \n4          5.0  "
                    },
                    "execution_count": 24,
                    "metadata": {},
                    "output_type": "execute_result"
                }
            ],
            "source": "# Create a variable, `query`, containing a SQL query which reads in all data from the `` table\n\nquery = \"\"\"\nSELECT *\nFROM allstarfull;\n\"\"\"\n\nallstar_observations = pd.read_sql(query, con)\nallstar_observations.head()"
        },
        {
            "cell_type": "code",
            "execution_count": 25,
            "metadata": {},
            "outputs": [
                {
                    "name": "stdout",
                    "output_type": "stream",
                    "text": "    type                  name     tbl_name  rootpage  \\\n0  table           allstarfull  allstarfull         2   \n1  index  ix_allstarfull_index  allstarfull         3   \n2  table               schools      schools        26   \n3  index      ix_schools_index      schools        31   \n4  table               batting      batting        99   \n5  index      ix_batting_index      batting       100   \n\n                                                 sql  \n0  CREATE TABLE \"allstarfull\" (\\n\"index\" INTEGER,...  \n1  CREATE INDEX \"ix_allstarfull_index\"ON \"allstar...  \n2  CREATE TABLE \"schools\" (\\n\"index\" INTEGER,\\n  ...  \n3  CREATE INDEX \"ix_schools_index\"ON \"schools\" (\"...  \n4  CREATE TABLE \"batting\" (\\n\"index\" INTEGER,\\n  ...  \n5  CREATE INDEX \"ix_batting_index\"ON \"batting\" (\"...  \n"
                }
            ],
            "source": "# print(allstar_observations)\n\n# Create a variable, tables, which reads in all data from the table sqlite_master\nall_tables = pd.read_sql('SELECT * FROM sqlite_master', con)\nprint(all_tables)"
        },
        {
            "cell_type": "code",
            "execution_count": 26,
            "metadata": {},
            "outputs": [
                {
                    "name": "stdout",
                    "output_type": "stream",
                    "text": "    playerID  num_games_played  avg_starting_position\n0  musiast01              24.0               6.357143\n1   mayswi01              24.0               8.000000\n2  aaronha01              24.0               8.470588\n"
                }
            ],
            "source": "# Pretend that you were interesting in creating a new baseball hall of fame. Join and analyze the tables to evaluate the top 3 all time best baseball players\nbest_query = \"\"\"\nSELECT playerID, sum(GP) AS num_games_played, AVG(startingPos) AS avg_starting_position\n    FROM allstarfull\n    GROUP BY playerID\n    ORDER BY num_games_played DESC, avg_starting_position ASC\n    LIMIT 3\n\"\"\"\nbest = pd.read_sql(best_query, con)\nprint(best.head())\n### END SOLUTION"
        },
        {
            "cell_type": "markdown",
            "metadata": {},
            "source": "---\n### Machine Learning Foundation (C) 2020 IBM Corporation"
        }
    ],
    "metadata": {
        "kernelspec": {
            "display_name": "Python 3.6",
            "language": "python",
            "name": "python3"
        },
        "language_info": {
            "codemirror_mode": {
                "name": "ipython",
                "version": 3
            },
            "file_extension": ".py",
            "mimetype": "text/x-python",
            "name": "python",
            "nbconvert_exporter": "python",
            "pygments_lexer": "ipython3",
            "version": "3.6.9"
        }
    },
    "nbformat": 4,
    "nbformat_minor": 4
}

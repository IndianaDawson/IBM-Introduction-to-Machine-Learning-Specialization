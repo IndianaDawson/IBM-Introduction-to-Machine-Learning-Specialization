{
    "cells": [
        {
            "cell_type": "markdown",
            "metadata": {},
            "source": "# Machine Learning Foundation\n\n## Section 2, Part c: Cross Validation "
        },
        {
            "cell_type": "markdown",
            "metadata": {},
            "source": "## Learning objectives\n\nBy the end of this lesson, you will be able to:\n\n* Chain multiple data processing steps together using `Pipeline`\n* Use the `KFolds` object to split data into multiple folds.\n* Perform cross validation using SciKit Learn with `cross_val_predict` and `GridSearchCV`\n"
        },
        {
            "cell_type": "code",
            "execution_count": 1,
            "metadata": {
                "ExecuteTime": {
                    "end_time": "2019-02-19T17:20:55.865735Z",
                    "start_time": "2019-02-19T17:20:54.685698Z"
                }
            },
            "outputs": [],
            "source": "import numpy as np\nimport pickle\nimport pandas as pd\nimport matplotlib.pyplot as plt\nimport types\nfrom botocore.client import Config\nimport ibm_boto3\n\nfrom sklearn.preprocessing import StandardScaler, PolynomialFeatures\nfrom sklearn.model_selection import KFold, cross_val_predict\nfrom sklearn.linear_model import LinearRegression, Lasso, Ridge\nfrom sklearn.metrics import r2_score\nfrom sklearn.pipeline import Pipeline"
        },
        {
            "cell_type": "code",
            "execution_count": 2,
            "metadata": {},
            "outputs": [],
            "source": "# The code was removed by Watson Studio for sharing."
        },
        {
            "cell_type": "code",
            "execution_count": 3,
            "metadata": {},
            "outputs": [],
            "source": "# make sure the credentials below in the def match the credentials you loaded above\ndef download_file_cos(credentials,local_file_name,key):  \n    cos = ibm_boto3.client(service_name='s3',\n    ibm_api_key_id=credentials['IBM_API_KEY_ID'],\n    ibm_service_instance_id=credentials['IAM_SERVICE_ID'],\n    ibm_auth_endpoint=credentials['IBM_AUTH_ENDPOINT'],\n    config=Config(signature_version='oauth'),\n    endpoint_url=credentials['ENDPOINT'])\n    try:\n        res=cos.download_file(Bucket=credentials['BUCKET'],Key=key,Filename=local_file_name)\n    except Exception as e:\n        print(Exception, e)\n    else:\n        print('The file %s has been downloaded into this notebook' % key)"
        },
        {
            "cell_type": "code",
            "execution_count": 4,
            "metadata": {},
            "outputs": [
                {
                    "name": "stdout",
                    "output_type": "stream",
                    "text": "The file boston_housing_clean.pickle has been downloaded into this notebook\n"
                }
            ],
            "source": "# For local file, input the name of what you want the file to be, for the key put name of the file on Cloud Object Storage\n# it would be best if they match for ease\ndownload_file_cos(credentials,'boston_housing_clean.pickle','boston_housing_clean.pickle')"
        },
        {
            "cell_type": "code",
            "execution_count": 5,
            "metadata": {
                "ExecuteTime": {
                    "end_time": "2019-02-19T17:20:58.445911Z",
                    "start_time": "2019-02-19T17:20:58.440191Z"
                }
            },
            "outputs": [],
            "source": "# Note we are loading a slightly different (\"cleaned\") pickle file\nboston = pickle.load(open('boston_housing_clean.pickle', \"rb\" ))"
        },
        {
            "cell_type": "code",
            "execution_count": 6,
            "metadata": {
                "ExecuteTime": {
                    "end_time": "2019-02-19T17:21:01.676948Z",
                    "start_time": "2019-02-19T17:21:01.671315Z"
                }
            },
            "outputs": [
                {
                    "data": {
                        "text/plain": "dict_keys(['dataframe', 'description'])"
                    },
                    "execution_count": 6,
                    "metadata": {},
                    "output_type": "execute_result"
                }
            ],
            "source": "boston.keys()"
        },
        {
            "cell_type": "code",
            "execution_count": 7,
            "metadata": {
                "ExecuteTime": {
                    "end_time": "2019-02-19T17:21:10.682135Z",
                    "start_time": "2019-02-19T17:21:10.678835Z"
                }
            },
            "outputs": [],
            "source": "boston_data = boston['dataframe']\nboston_description = boston['description']"
        },
        {
            "cell_type": "code",
            "execution_count": 8,
            "metadata": {
                "ExecuteTime": {
                    "end_time": "2019-02-19T17:22:10.274974Z",
                    "start_time": "2019-02-19T17:22:10.256879Z"
                }
            },
            "outputs": [
                {
                    "data": {
                        "text/html": "<div>\n<style scoped>\n    .dataframe tbody tr th:only-of-type {\n        vertical-align: middle;\n    }\n\n    .dataframe tbody tr th {\n        vertical-align: top;\n    }\n\n    .dataframe thead th {\n        text-align: right;\n    }\n</style>\n<table border=\"1\" class=\"dataframe\">\n  <thead>\n    <tr style=\"text-align: right;\">\n      <th></th>\n      <th>CRIM</th>\n      <th>ZN</th>\n      <th>INDUS</th>\n      <th>CHAS</th>\n      <th>NOX</th>\n      <th>RM</th>\n      <th>AGE</th>\n      <th>DIS</th>\n      <th>RAD</th>\n      <th>TAX</th>\n      <th>PTRATIO</th>\n      <th>B</th>\n      <th>LSTAT</th>\n      <th>MEDV</th>\n    </tr>\n  </thead>\n  <tbody>\n    <tr>\n      <th>0</th>\n      <td>0.00632</td>\n      <td>18.0</td>\n      <td>2.31</td>\n      <td>0.0</td>\n      <td>0.538</td>\n      <td>6.575</td>\n      <td>65.2</td>\n      <td>4.0900</td>\n      <td>1.0</td>\n      <td>296.0</td>\n      <td>15.3</td>\n      <td>396.90</td>\n      <td>4.98</td>\n      <td>24.0</td>\n    </tr>\n    <tr>\n      <th>1</th>\n      <td>0.02731</td>\n      <td>0.0</td>\n      <td>7.07</td>\n      <td>0.0</td>\n      <td>0.469</td>\n      <td>6.421</td>\n      <td>78.9</td>\n      <td>4.9671</td>\n      <td>2.0</td>\n      <td>242.0</td>\n      <td>17.8</td>\n      <td>396.90</td>\n      <td>9.14</td>\n      <td>21.6</td>\n    </tr>\n    <tr>\n      <th>2</th>\n      <td>0.02729</td>\n      <td>0.0</td>\n      <td>7.07</td>\n      <td>0.0</td>\n      <td>0.469</td>\n      <td>7.185</td>\n      <td>61.1</td>\n      <td>4.9671</td>\n      <td>2.0</td>\n      <td>242.0</td>\n      <td>17.8</td>\n      <td>392.83</td>\n      <td>4.03</td>\n      <td>34.7</td>\n    </tr>\n    <tr>\n      <th>3</th>\n      <td>0.03237</td>\n      <td>0.0</td>\n      <td>2.18</td>\n      <td>0.0</td>\n      <td>0.458</td>\n      <td>6.998</td>\n      <td>45.8</td>\n      <td>6.0622</td>\n      <td>3.0</td>\n      <td>222.0</td>\n      <td>18.7</td>\n      <td>394.63</td>\n      <td>2.94</td>\n      <td>33.4</td>\n    </tr>\n    <tr>\n      <th>4</th>\n      <td>0.06905</td>\n      <td>0.0</td>\n      <td>2.18</td>\n      <td>0.0</td>\n      <td>0.458</td>\n      <td>7.147</td>\n      <td>54.2</td>\n      <td>6.0622</td>\n      <td>3.0</td>\n      <td>222.0</td>\n      <td>18.7</td>\n      <td>396.90</td>\n      <td>5.33</td>\n      <td>36.2</td>\n    </tr>\n  </tbody>\n</table>\n</div>",
                        "text/plain": "      CRIM    ZN  INDUS  CHAS    NOX     RM   AGE     DIS  RAD    TAX  \\\n0  0.00632  18.0   2.31   0.0  0.538  6.575  65.2  4.0900  1.0  296.0   \n1  0.02731   0.0   7.07   0.0  0.469  6.421  78.9  4.9671  2.0  242.0   \n2  0.02729   0.0   7.07   0.0  0.469  7.185  61.1  4.9671  2.0  242.0   \n3  0.03237   0.0   2.18   0.0  0.458  6.998  45.8  6.0622  3.0  222.0   \n4  0.06905   0.0   2.18   0.0  0.458  7.147  54.2  6.0622  3.0  222.0   \n\n   PTRATIO       B  LSTAT  MEDV  \n0     15.3  396.90   4.98  24.0  \n1     17.8  396.90   9.14  21.6  \n2     17.8  392.83   4.03  34.7  \n3     18.7  394.63   2.94  33.4  \n4     18.7  396.90   5.33  36.2  "
                    },
                    "execution_count": 8,
                    "metadata": {},
                    "output_type": "execute_result"
                }
            ],
            "source": "boston_data.head()"
        },
        {
            "cell_type": "markdown",
            "metadata": {},
            "source": "### Discussion: \n\nSuppose we want to do Linear Regression on our dataset to get an estimate, based on mean squared error, of how well our model will perform on data outside our dataset. \n\nSuppose also that our data is split into three folds: Fold 1, Fold 2, and Fold 3.\n\nWhat would the steps be, in English, to do this?"
        },
        {
            "cell_type": "markdown",
            "metadata": {},
            "source": "**Your response below**"
        },
        {
            "cell_type": "markdown",
            "metadata": {},
            "source": " "
        },
        {
            "cell_type": "markdown",
            "metadata": {},
            "source": "#### Coding this up\n\nThe [`KFold`](http://scikit-learn.org/stable/modules/generated/sklearn.model_selection.KFold.html) object in SciKit Learn tells the cross validation object (see below) how to split up the data:"
        },
        {
            "cell_type": "code",
            "execution_count": 9,
            "metadata": {
                "ExecuteTime": {
                    "end_time": "2019-02-19T17:23:05.068445Z",
                    "start_time": "2019-02-19T17:23:05.064683Z"
                }
            },
            "outputs": [],
            "source": "X = boston_data.drop('MEDV', axis=1)\ny = boston_data.MEDV"
        },
        {
            "cell_type": "code",
            "execution_count": 10,
            "metadata": {
                "ExecuteTime": {
                    "end_time": "2019-02-19T17:23:10.538982Z",
                    "start_time": "2019-02-19T17:23:10.534325Z"
                }
            },
            "outputs": [],
            "source": "kf = KFold(shuffle=True, random_state=72018, n_splits=3)"
        },
        {
            "cell_type": "code",
            "execution_count": 11,
            "metadata": {
                "ExecuteTime": {
                    "end_time": "2019-02-19T17:25:04.578536Z",
                    "start_time": "2019-02-19T17:25:04.568959Z"
                },
                "scrolled": true
            },
            "outputs": [
                {
                    "name": "stdout",
                    "output_type": "stream",
                    "text": "Train index: [ 1  3  4  5  7  8 10 11 12 13] 337\nTest index: [ 0  2  6  9 15 17 19 23 25 26] 169\n\nTrain index: [ 0  2  6  9 10 11 12 13 15 17] 337\nTest index: [ 1  3  4  5  7  8 14 16 22 27] 169\n\nTrain index: [0 1 2 3 4 5 6 7 8 9] 338\nTest index: [10 11 12 13 18 20 21 24 28 31] 168\n\n"
                }
            ],
            "source": "for train_index, test_index in kf.split(X):\n    print(\"Train index:\", train_index[:10], len(train_index))\n    print(\"Test index:\",test_index[:10], len(test_index))\n    print('')"
        },
        {
            "cell_type": "code",
            "execution_count": 12,
            "metadata": {
                "ExecuteTime": {
                    "end_time": "2019-02-19T17:28:10.441616Z",
                    "start_time": "2019-02-19T17:28:10.204857Z"
                }
            },
            "outputs": [
                {
                    "data": {
                        "text/plain": "[0.671934879847278, 0.7485020059212362, 0.6976807323597782]"
                    },
                    "execution_count": 12,
                    "metadata": {},
                    "output_type": "execute_result"
                }
            ],
            "source": "#from sklearn.metrics import r2_score, mean_squared_error\n\nscores = []\nlr = LinearRegression()\n\nfor train_index, test_index in kf.split(X):\n    X_train, X_test, y_train, y_test = (X.iloc[train_index, :], \n                                        X.iloc[test_index, :], \n                                        y[train_index], \n                                        y[test_index])\n    \n    lr.fit(X_train, y_train)\n        \n    y_pred = lr.predict(X_test)\n\n    score = r2_score(y_test.values, y_pred)\n    \n    scores.append(score)\n    \nscores"
        },
        {
            "cell_type": "markdown",
            "metadata": {},
            "source": "A bit cumbersome, but do-able."
        },
        {
            "cell_type": "markdown",
            "metadata": {},
            "source": "### Discussion (Part 2): \n\nNow suppose we want to do the same, but appropriately scaling our data as we go through the folds.\n\nWhat would the steps be _now_?"
        },
        {
            "cell_type": "markdown",
            "metadata": {},
            "source": "**Your response below**"
        },
        {
            "cell_type": "markdown",
            "metadata": {},
            "source": "### Coding this up"
        },
        {
            "cell_type": "code",
            "execution_count": 13,
            "metadata": {
                "ExecuteTime": {
                    "end_time": "2019-02-19T17:32:07.846336Z",
                    "start_time": "2019-02-19T17:32:07.808810Z"
                }
            },
            "outputs": [],
            "source": "scores = []\n\nlr = LinearRegression()\ns = StandardScaler()\n\nfor train_index, test_index in kf.split(X):\n    X_train, X_test, y_train, y_test = (X.iloc[train_index, :], \n                                        X.iloc[test_index, :], \n                                        y[train_index], \n                                        y[test_index])\n    \n    X_train_s = s.fit_transform(X_train)\n    \n    lr.fit(X_train_s, y_train)\n    \n    X_test_s = s.transform(X_test)\n    \n    y_pred = lr.predict(X_test_s)\n\n    score = r2_score(y_test.values, y_pred)\n    \n    scores.append(score)"
        },
        {
            "cell_type": "code",
            "execution_count": 14,
            "metadata": {
                "ExecuteTime": {
                    "end_time": "2019-02-19T17:32:09.978972Z",
                    "start_time": "2019-02-19T17:32:09.974341Z"
                }
            },
            "outputs": [
                {
                    "data": {
                        "text/plain": "[0.6719348798472715, 0.748502005921238, 0.6976807323597742]"
                    },
                    "execution_count": 14,
                    "metadata": {},
                    "output_type": "execute_result"
                }
            ],
            "source": "scores"
        },
        {
            "cell_type": "markdown",
            "metadata": {},
            "source": "(same scores, because for vanilla linear regression with no regularization, scaling actually doesn't matter for performance)"
        },
        {
            "cell_type": "markdown",
            "metadata": {},
            "source": "This is getting quite cumbersome! \n\n_Very_ luckily, SciKit Learn has some wonderful functions that handle a lot of this for us."
        },
        {
            "cell_type": "markdown",
            "metadata": {},
            "source": "### `Pipeline` and `cross_val_predict`"
        },
        {
            "cell_type": "markdown",
            "metadata": {},
            "source": "`Pipeline` lets you chain together multiple operators on your data that both have a `fit` method."
        },
        {
            "cell_type": "code",
            "execution_count": 15,
            "metadata": {
                "ExecuteTime": {
                    "end_time": "2019-02-19T17:33:28.695381Z",
                    "start_time": "2019-02-19T17:33:28.691865Z"
                }
            },
            "outputs": [],
            "source": "s = StandardScaler()\nlr = LinearRegression()"
        },
        {
            "cell_type": "markdown",
            "metadata": {},
            "source": "### Combine multiple processing steps into a `Pipeline`\n\nA pipeline contains a series of steps, where a step is (\"name of step\", actual_model). The \"name of step\" string is only used to help you identify which step you are on, and to allow you to specify parameters at that step.  "
        },
        {
            "cell_type": "code",
            "execution_count": 16,
            "metadata": {
                "ExecuteTime": {
                    "end_time": "2019-02-19T17:33:32.657281Z",
                    "start_time": "2019-02-19T17:33:32.653852Z"
                }
            },
            "outputs": [],
            "source": "estimator = Pipeline([(\"scaler\", s),\n                      (\"regression\", lr)])"
        },
        {
            "cell_type": "markdown",
            "metadata": {},
            "source": "### `cross_val_predict`\n\n[`cross_val_predict`](http://scikit-learn.org/stable/modules/generated/sklearn.model_selection.cross_val_predict.html) is a function that does K-fold cross validation for us, appropriately fitting and transforming at every step of the way."
        },
        {
            "cell_type": "code",
            "execution_count": 17,
            "metadata": {},
            "outputs": [
                {
                    "data": {
                        "text/plain": "KFold(n_splits=3, random_state=72018, shuffle=True)"
                    },
                    "execution_count": 17,
                    "metadata": {},
                    "output_type": "execute_result"
                }
            ],
            "source": "kf"
        },
        {
            "cell_type": "code",
            "execution_count": 18,
            "metadata": {
                "ExecuteTime": {
                    "end_time": "2019-02-19T17:35:55.255356Z",
                    "start_time": "2019-02-19T17:35:55.240376Z"
                }
            },
            "outputs": [],
            "source": "predictions = cross_val_predict(estimator, X, y, cv=kf)"
        },
        {
            "cell_type": "code",
            "execution_count": 19,
            "metadata": {
                "ExecuteTime": {
                    "end_time": "2019-02-19T17:36:03.801732Z",
                    "start_time": "2019-02-19T17:36:03.796646Z"
                },
                "scrolled": true
            },
            "outputs": [
                {
                    "data": {
                        "text/plain": "0.7063531064161559"
                    },
                    "execution_count": 19,
                    "metadata": {},
                    "output_type": "execute_result"
                }
            ],
            "source": "r2_score(y, predictions)"
        },
        {
            "cell_type": "code",
            "execution_count": 20,
            "metadata": {
                "ExecuteTime": {
                    "end_time": "2019-02-19T17:36:19.831481Z",
                    "start_time": "2019-02-19T17:36:19.827131Z"
                }
            },
            "outputs": [
                {
                    "data": {
                        "text/plain": "0.7060392060427612"
                    },
                    "execution_count": 20,
                    "metadata": {},
                    "output_type": "execute_result"
                }
            ],
            "source": "np.mean(scores) # almost identical!"
        },
        {
            "cell_type": "markdown",
            "metadata": {},
            "source": "Note that `cross_val_predict` doesn't use the same model for all steps; the predictions for each row are made when that row is in the validation set. We really have the collected results of 3 (i.e. `kf.num_splits`) different models. \n\nWhen we are done, `estimator` is still not fitted. If we want to predict on _new_ data, we still have to train our `estimator`. "
        },
        {
            "cell_type": "markdown",
            "metadata": {},
            "source": "## Hyperparameter tuning"
        },
        {
            "cell_type": "markdown",
            "metadata": {},
            "source": "### Definition\n\n**Hyperparameter tuning** involves using cross validation (or train-test split) to determine which hyperparameters are most likely to generate a model that _generalizes_ well outside of your sample.\n\n### Mechanics\n\nWe can generate an exponentially spaces range of values using the numpy [`geomspace`](https://docs.scipy.org/doc/numpy/reference/generated/numpy.geomspace.html#numpy.geomspace) function.\n\n```python\nnp.geomspace(1, 1000, num=4)\n```\n\nproduces:\n\n```\narray([    1.,    10.,   100.,  1000.])\n```\n\nUse this function to generate a list of length 10 called `alphas` for hyperparameter tuning:"
        },
        {
            "cell_type": "code",
            "execution_count": 21,
            "metadata": {
                "ExecuteTime": {
                    "end_time": "2019-02-19T17:40:36.220744Z",
                    "start_time": "2019-02-19T17:40:36.214714Z"
                }
            },
            "outputs": [
                {
                    "data": {
                        "text/plain": "array([1.e-09, 1.e-08, 1.e-07, 1.e-06, 1.e-05, 1.e-04, 1.e-03, 1.e-02,\n       1.e-01, 1.e+00])"
                    },
                    "execution_count": 21,
                    "metadata": {},
                    "output_type": "execute_result"
                }
            ],
            "source": "alphas = np.geomspace(1e-9, 1e0, num=10)\nalphas"
        },
        {
            "cell_type": "markdown",
            "metadata": {},
            "source": "The code below tunes the `alpha` hyperparameter for Lasso regression."
        },
        {
            "cell_type": "code",
            "execution_count": 22,
            "metadata": {
                "ExecuteTime": {
                    "end_time": "2019-02-19T17:47:34.947390Z",
                    "start_time": "2019-02-19T17:47:34.845011Z"
                }
            },
            "outputs": [],
            "source": "scores = []\ncoefs = []\nfor alpha in alphas:\n    las = Lasso(alpha=alpha, max_iter=100000)\n    \n    estimator = Pipeline([\n        (\"scaler\", s),\n        (\"lasso_regression\", las)])\n\n    predictions = cross_val_predict(estimator, X, y, cv = kf)\n    \n    score = r2_score(y, predictions)\n    \n    scores.append(score)"
        },
        {
            "cell_type": "code",
            "execution_count": 23,
            "metadata": {
                "ExecuteTime": {
                    "end_time": "2019-02-19T17:47:35.397285Z",
                    "start_time": "2019-02-19T17:47:35.390917Z"
                }
            },
            "outputs": [
                {
                    "data": {
                        "text/plain": "[(1e-09, 0.7063531064981925),\n (1e-08, 0.7063531072356071),\n (1e-07, 0.7063531145602442),\n (1e-06, 0.7063531882052065),\n (1e-05, 0.7063539165191507),\n (0.0001, 0.706361268093463),\n (0.001, 0.706433467041546),\n (0.01, 0.7070865958083233),\n (0.1, 0.705838151167185),\n (1.0, 0.6512724532884887)]"
                    },
                    "execution_count": 23,
                    "metadata": {},
                    "output_type": "execute_result"
                }
            ],
            "source": "list(zip(alphas,scores))"
        },
        {
            "cell_type": "code",
            "execution_count": 24,
            "metadata": {
                "ExecuteTime": {
                    "end_time": "2019-02-19T17:48:16.943881Z",
                    "start_time": "2019-02-19T17:48:16.937741Z"
                }
            },
            "outputs": [
                {
                    "data": {
                        "text/plain": "array([-1.07170372e-01,  4.63952623e-02,  2.08588308e-02,  2.68854318e+00,\n       -1.77954207e+01,  3.80475296e+00,  7.50802707e-04, -1.47575348e+00,\n        3.05654279e-01, -1.23293755e-02, -9.53459908e-01,  9.39253013e-03,\n       -5.25467196e-01])"
                    },
                    "execution_count": 24,
                    "metadata": {},
                    "output_type": "execute_result"
                }
            ],
            "source": "Lasso(alpha=1e-6).fit(X, y).coef_"
        },
        {
            "cell_type": "code",
            "execution_count": 25,
            "metadata": {
                "ExecuteTime": {
                    "end_time": "2019-02-19T17:48:40.778026Z",
                    "start_time": "2019-02-19T17:48:40.771732Z"
                }
            },
            "outputs": [
                {
                    "data": {
                        "text/plain": "array([-0.06342255,  0.04916867, -0.        ,  0.        , -0.        ,\n        0.94678567,  0.02092737, -0.66900864,  0.26417501, -0.01520915,\n       -0.72319901,  0.00829117, -0.76143296])"
                    },
                    "execution_count": 25,
                    "metadata": {},
                    "output_type": "execute_result"
                }
            ],
            "source": "Lasso(alpha=1.0).fit(X, y).coef_"
        },
        {
            "cell_type": "code",
            "execution_count": 26,
            "metadata": {
                "ExecuteTime": {
                    "end_time": "2019-02-19T17:46:03.208768Z",
                    "start_time": "2019-02-19T17:46:02.898338Z"
                }
            },
            "outputs": [
                {
                    "data": {
                        "image/png": "[encoded data removed]",
                        "text/plain": "<Figure size 720x432 with 1 Axes>"
                    },
                    "metadata": {
                        "needs_background": "light"
                    },
                    "output_type": "display_data"
                }
            ],
            "source": "plt.figure(figsize=(10,6))\nplt.semilogx(alphas, scores, '-o')\nplt.xlabel('$\\\\alpha$')\nplt.ylabel('$R^2$');"
        },
        {
            "cell_type": "markdown",
            "metadata": {},
            "source": "### Exercise\n\nAdd `PolynomialFeatures` to this `Pipeline`, and re-run the cross validation with the `PolynomialFeatures` added.\n\n**Hint #1:** pipelines process input from first to last. Think about the order that it would make sense to add Polynomial Features to the data in sequence and add them in the appropriate place in the pipeline.\n\n**Hint #2:** you should see a significant increase in cross validation accuracy from doing this"
        },
        {
            "cell_type": "code",
            "execution_count": 27,
            "metadata": {
                "ExecuteTime": {
                    "end_time": "2019-02-19T17:56:02.883875Z",
                    "start_time": "2019-02-19T17:56:00.477593Z"
                }
            },
            "outputs": [],
            "source": "pf = PolynomialFeatures(degree=3)\n\nscores = []\nalphas = np.geomspace(0.06, 6.0, 20)\nfor alpha in alphas:\n    las = Lasso(alpha=alpha, max_iter=100000)\n    \n    estimator = Pipeline([\n        (\"scaler\", s),\n        (\"make_higher_degree\", pf),\n        (\"lasso_regression\", las)])\n\n    predictions = cross_val_predict(estimator, X, y, cv = kf)\n    \n    score = r2_score(y, predictions)\n    \n    scores.append(score)\n    "
        },
        {
            "cell_type": "markdown",
            "metadata": {},
            "source": "If you store the results in a list called `scores`, the following will work:"
        },
        {
            "cell_type": "code",
            "execution_count": 28,
            "metadata": {
                "ExecuteTime": {
                    "end_time": "2019-02-19T17:56:05.154628Z",
                    "start_time": "2019-02-19T17:56:04.987932Z"
                }
            },
            "outputs": [
                {
                    "data": {
                        "image/png": "[encoded data removed]",
                        "text/plain": "<Figure size 432x288 with 1 Axes>"
                    },
                    "metadata": {
                        "needs_background": "light"
                    },
                    "output_type": "display_data"
                }
            ],
            "source": "plt.semilogx(alphas, scores);"
        },
        {
            "cell_type": "code",
            "execution_count": 29,
            "metadata": {
                "ExecuteTime": {
                    "end_time": "2019-02-19T17:56:40.051147Z",
                    "start_time": "2019-02-19T17:56:40.009641Z"
                }
            },
            "outputs": [
                {
                    "data": {
                        "text/plain": "0.9134777735196521"
                    },
                    "execution_count": 29,
                    "metadata": {},
                    "output_type": "execute_result"
                }
            ],
            "source": "# Once we have found the hyperparameter (alpha~1e-2=0.01)\n# make the model and train it on ALL the data\n# Then release it into the wild .....\nbest_estimator = Pipeline([\n                    (\"scaler\", s),\n                    (\"make_higher_degree\", PolynomialFeatures(degree=2)),\n                    (\"lasso_regression\", Lasso(alpha=0.03))])\n\nbest_estimator.fit(X, y)\nbest_estimator.score(X, y)"
        },
        {
            "cell_type": "code",
            "execution_count": 30,
            "metadata": {
                "ExecuteTime": {
                    "end_time": "2019-02-19T17:56:51.526585Z",
                    "start_time": "2019-02-19T17:56:51.521094Z"
                }
            },
            "outputs": [
                {
                    "data": {
                        "text/plain": "array([ 0.00000000e+00, -0.00000000e+00, -0.00000000e+00, -0.00000000e+00,\n        0.00000000e+00, -1.00309168e+00,  3.32679107e+00, -1.01840878e+00,\n       -2.56161421e+00,  1.12778302e+00, -1.72266155e+00, -5.37088506e-01,\n        4.39555878e-01, -3.39542586e+00,  7.22387712e-02,  0.00000000e+00,\n        0.00000000e+00,  3.53653554e+00, -0.00000000e+00,  3.72285440e-01,\n        0.00000000e+00,  0.00000000e+00, -5.49528703e-01, -0.00000000e+00,\n       -0.00000000e+00, -4.05522485e-02,  2.25864611e-01,  1.78508858e-01,\n        0.00000000e+00,  0.00000000e+00,  0.00000000e+00,  6.50874606e-02,\n       -0.00000000e+00, -2.07295802e-01, -0.00000000e+00,  3.71781995e-01,\n        0.00000000e+00, -0.00000000e+00, -5.89531100e-02,  3.47180625e-01,\n        0.00000000e+00,  9.23666274e-01,  3.48873365e-01,  7.29463442e-02,\n        0.00000000e+00,  0.00000000e+00,  7.68485586e-02, -7.21083596e-01,\n        0.00000000e+00, -5.98542558e-01,  4.18420677e-01, -7.98165728e-01,\n       -7.25062683e-01,  2.34818861e-01, -0.00000000e+00, -0.00000000e+00,\n        0.00000000e+00, -1.68164447e-02,  0.00000000e+00, -4.04477826e-01,\n       -4.22989874e-01, -4.06983988e-01, -3.75443720e-01,  4.17684564e-01,\n       -8.91841193e-01,  0.00000000e+00, -2.69309481e-01,  0.00000000e+00,\n        1.02286785e-01,  2.02570379e-01, -6.88345376e-01, -0.00000000e+00,\n       -1.08598703e+00, -3.98751731e-01, -9.37684760e-01, -1.17343147e-01,\n       -7.37427594e-01,  0.00000000e+00,  0.00000000e+00,  1.36340670e+00,\n       -0.00000000e+00, -2.94691228e-03, -8.98125013e-01, -8.68198373e-01,\n        8.03396788e-01, -1.91683803e-01, -1.14706070e-01,  0.00000000e+00,\n       -0.00000000e+00,  5.83161589e-01, -0.00000000e+00,  5.81365491e-02,\n        0.00000000e+00, -2.32896159e-01, -1.12440837e+00,  0.00000000e+00,\n        1.96286997e+00, -0.00000000e+00, -1.00915801e+00, -7.04656486e-02,\n       -1.06456357e-02, -4.78389591e-02, -3.97645601e-01, -3.84121840e-01,\n        9.97402419e-01])"
                    },
                    "execution_count": 30,
                    "metadata": {},
                    "output_type": "execute_result"
                }
            ],
            "source": "best_estimator.named_steps[\"lasso_regression\"].coef_"
        },
        {
            "cell_type": "markdown",
            "metadata": {},
            "source": "### Exercise\n\nDo the same, but with `Ridge` regression \n\nWhich model, `Ridge` or `Lasso`, performs best with its optimal hyperparameters on the Boston dataset?"
        },
        {
            "cell_type": "code",
            "execution_count": 31,
            "metadata": {
                "ExecuteTime": {
                    "end_time": "2019-02-19T17:59:17.634414Z",
                    "start_time": "2019-02-19T17:59:17.238684Z"
                }
            },
            "outputs": [
                {
                    "data": {
                        "text/plain": "[<matplotlib.lines.Line2D at 0x7efbf5c9ca20>]"
                    },
                    "execution_count": 31,
                    "metadata": {},
                    "output_type": "execute_result"
                },
                {
                    "data": {
                        "image/png": "[encoded data removed]",
                        "text/plain": "<Figure size 432x288 with 1 Axes>"
                    },
                    "metadata": {
                        "needs_background": "light"
                    },
                    "output_type": "display_data"
                }
            ],
            "source": "pf = PolynomialFeatures(degree=2)\nalphas = np.geomspace(4, 20, 20)\nscores=[]\nfor alpha in alphas:\n    ridge = Ridge(alpha=alpha, max_iter=100000)\n\n    estimator = Pipeline([\n        (\"scaler\", s),\n        (\"polynomial_features\", pf),\n        (\"ridge_regression\", ridge)])\n\n    predictions = cross_val_predict(estimator, X, y, cv = kf)\n    score = r2_score(y, predictions)\n    scores.append(score)\n\nplt.plot(alphas, scores)"
        },
        {
            "cell_type": "markdown",
            "metadata": {},
            "source": "**Conclusion:** Both Lasso and Ridge with proper hyperparameter tuning give better results than plain ol' Linear Regression!"
        },
        {
            "cell_type": "markdown",
            "metadata": {},
            "source": "### Exercise:"
        },
        {
            "cell_type": "markdown",
            "metadata": {},
            "source": "Now, for whatever your best overall hyperparameter was: \n\n* Standardize the data\n* Fit and predict on the entire dataset\n* See what the largest coefficients were\n    * Hint: use \n    ```python\n    dict(zip(model.coef_, pf.get_feature_names()))\n    ```\n    for your model `model` to get the feature names from `PolynomialFeatures`.\n    \n    Then, use\n    ```python\n    dict(zip(list(range(len(X.columns.values))), X.columns.values))\n    ```\n    \n    to see which features in the `PolynomialFeatures` DataFrame correspond to which columns in the original DataFrame.\n"
        },
        {
            "cell_type": "code",
            "execution_count": 32,
            "metadata": {
                "ExecuteTime": {
                    "end_time": "2019-02-19T17:56:40.051147Z",
                    "start_time": "2019-02-19T17:56:40.009641Z"
                }
            },
            "outputs": [
                {
                    "name": "stderr",
                    "output_type": "stream",
                    "text": "/opt/conda/envs/Python36/lib/python3.6/site-packages/sklearn/linear_model/coordinate_descent.py:492: ConvergenceWarning: Objective did not converge. You might want to increase the number of iterations. Fitting data with very small alpha may cause precision problems.\n  ConvergenceWarning)\n"
                },
                {
                    "data": {
                        "text/plain": "0.9241797703677183"
                    },
                    "execution_count": 32,
                    "metadata": {},
                    "output_type": "execute_result"
                }
            ],
            "source": "# Once we have found the hyperparameter (alpha~1e-2=0.01)\n# make the model and train it on ALL the data\n# Then release it into the wild .....\nbest_estimator = Pipeline([\n                    (\"scaler\", s),\n                    (\"make_higher_degree\", PolynomialFeatures(degree=2)),\n                    (\"lasso_regression\", Lasso(alpha=0.01))])\n\nbest_estimator.fit(X, y)\nbest_estimator.score(X, y)"
        },
        {
            "cell_type": "code",
            "execution_count": 33,
            "metadata": {
                "ExecuteTime": {
                    "end_time": "2019-02-19T17:56:51.526585Z",
                    "start_time": "2019-02-19T17:56:51.521094Z"
                }
            },
            "outputs": [],
            "source": "df_importances = pd.DataFrame(zip(best_estimator.named_steps[\"make_higher_degree\"].get_feature_names(input_features=X.columns),\n                 best_estimator.named_steps[\"lasso_regression\"].coef_,\n))"
        },
        {
            "cell_type": "code",
            "execution_count": 34,
            "metadata": {},
            "outputs": [],
            "source": "col_names_dict = dict(zip(list(range(len(X.columns.values))), X.columns.values))"
        },
        {
            "cell_type": "code",
            "execution_count": 35,
            "metadata": {},
            "outputs": [
                {
                    "data": {
                        "text/plain": "{0: 'CRIM',\n 1: 'ZN',\n 2: 'INDUS',\n 3: 'CHAS',\n 4: 'NOX',\n 5: 'RM',\n 6: 'AGE',\n 7: 'DIS',\n 8: 'RAD',\n 9: 'TAX',\n 10: 'PTRATIO',\n 11: 'B',\n 12: 'LSTAT'}"
                    },
                    "execution_count": 35,
                    "metadata": {},
                    "output_type": "execute_result"
                }
            ],
            "source": "col_names_dict"
        },
        {
            "cell_type": "code",
            "execution_count": 36,
            "metadata": {},
            "outputs": [
                {
                    "data": {
                        "text/html": "<div>\n<style scoped>\n    .dataframe tbody tr th:only-of-type {\n        vertical-align: middle;\n    }\n\n    .dataframe tbody tr th {\n        vertical-align: top;\n    }\n\n    .dataframe thead th {\n        text-align: right;\n    }\n</style>\n<table border=\"1\" class=\"dataframe\">\n  <thead>\n    <tr style=\"text-align: right;\">\n      <th></th>\n      <th>0</th>\n      <th>1</th>\n    </tr>\n  </thead>\n  <tbody>\n    <tr>\n      <th>90</th>\n      <td>RAD^2</td>\n      <td>-4.803638</td>\n    </tr>\n    <tr>\n      <th>13</th>\n      <td>LSTAT</td>\n      <td>-3.307996</td>\n    </tr>\n    <tr>\n      <th>8</th>\n      <td>DIS</td>\n      <td>-2.812789</td>\n    </tr>\n    <tr>\n      <th>7</th>\n      <td>AGE</td>\n      <td>-1.454097</td>\n    </tr>\n    <tr>\n      <th>85</th>\n      <td>DIS RAD</td>\n      <td>-1.431074</td>\n    </tr>\n    <tr>\n      <th>94</th>\n      <td>RAD LSTAT</td>\n      <td>-1.426539</td>\n    </tr>\n    <tr>\n      <th>73</th>\n      <td>RM TAX</td>\n      <td>-1.399134</td>\n    </tr>\n    <tr>\n      <th>82</th>\n      <td>AGE B</td>\n      <td>-1.355802</td>\n    </tr>\n    <tr>\n      <th>83</th>\n      <td>AGE LSTAT</td>\n      <td>-1.250545</td>\n    </tr>\n    <tr>\n      <th>5</th>\n      <td>NOX</td>\n      <td>-1.237913</td>\n    </tr>\n    <tr>\n      <th>98</th>\n      <td>TAX LSTAT</td>\n      <td>-1.120915</td>\n    </tr>\n    <tr>\n      <th>70</th>\n      <td>RM AGE</td>\n      <td>-0.986135</td>\n    </tr>\n    <tr>\n      <th>62</th>\n      <td>NOX AGE</td>\n      <td>-0.954266</td>\n    </tr>\n    <tr>\n      <th>76</th>\n      <td>RM LSTAT</td>\n      <td>-0.912320</td>\n    </tr>\n    <tr>\n      <th>74</th>\n      <td>RM PTRATIO</td>\n      <td>-0.907713</td>\n    </tr>\n    <tr>\n      <th>51</th>\n      <td>CHAS NOX</td>\n      <td>-0.905209</td>\n    </tr>\n    <tr>\n      <th>52</th>\n      <td>CHAS RM</td>\n      <td>-0.864616</td>\n    </tr>\n    <tr>\n      <th>66</th>\n      <td>NOX PTRATIO</td>\n      <td>-0.830786</td>\n    </tr>\n    <tr>\n      <th>22</th>\n      <td>CRIM RAD</td>\n      <td>-0.783356</td>\n    </tr>\n    <tr>\n      <th>64</th>\n      <td>NOX RAD</td>\n      <td>-0.771121</td>\n    </tr>\n    <tr>\n      <th>72</th>\n      <td>RM RAD</td>\n      <td>-0.714006</td>\n    </tr>\n    <tr>\n      <th>80</th>\n      <td>AGE TAX</td>\n      <td>-0.704531</td>\n    </tr>\n    <tr>\n      <th>86</th>\n      <td>DIS TAX</td>\n      <td>-0.684814</td>\n    </tr>\n    <tr>\n      <th>60</th>\n      <td>NOX^2</td>\n      <td>-0.623731</td>\n    </tr>\n    <tr>\n      <th>49</th>\n      <td>INDUS LSTAT</td>\n      <td>-0.603009</td>\n    </tr>\n    <tr>\n      <th>18</th>\n      <td>CRIM NOX</td>\n      <td>-0.514722</td>\n    </tr>\n    <tr>\n      <th>38</th>\n      <td>ZN LSTAT</td>\n      <td>-0.504731</td>\n    </tr>\n    <tr>\n      <th>11</th>\n      <td>PTRATIO</td>\n      <td>-0.480598</td>\n    </tr>\n    <tr>\n      <th>59</th>\n      <td>CHAS LSTAT</td>\n      <td>-0.437701</td>\n    </tr>\n    <tr>\n      <th>47</th>\n      <td>INDUS PTRATIO</td>\n      <td>-0.399364</td>\n    </tr>\n    <tr>\n      <th>...</th>\n      <td>...</td>\n      <td>...</td>\n    </tr>\n    <tr>\n      <th>77</th>\n      <td>AGE^2</td>\n      <td>0.102504</td>\n    </tr>\n    <tr>\n      <th>54</th>\n      <td>CHAS DIS</td>\n      <td>0.107129</td>\n    </tr>\n    <tr>\n      <th>14</th>\n      <td>CRIM^2</td>\n      <td>0.117544</td>\n    </tr>\n    <tr>\n      <th>46</th>\n      <td>INDUS TAX</td>\n      <td>0.150919</td>\n    </tr>\n    <tr>\n      <th>27</th>\n      <td>ZN^2</td>\n      <td>0.156627</td>\n    </tr>\n    <tr>\n      <th>69</th>\n      <td>RM^2</td>\n      <td>0.163943</td>\n    </tr>\n    <tr>\n      <th>48</th>\n      <td>INDUS B</td>\n      <td>0.165525</td>\n    </tr>\n    <tr>\n      <th>58</th>\n      <td>CHAS B</td>\n      <td>0.168054</td>\n    </tr>\n    <tr>\n      <th>53</th>\n      <td>CHAS AGE</td>\n      <td>0.228849</td>\n    </tr>\n    <tr>\n      <th>43</th>\n      <td>INDUS AGE</td>\n      <td>0.234004</td>\n    </tr>\n    <tr>\n      <th>50</th>\n      <td>CHAS^2</td>\n      <td>0.460487</td>\n    </tr>\n    <tr>\n      <th>39</th>\n      <td>INDUS^2</td>\n      <td>0.585708</td>\n    </tr>\n    <tr>\n      <th>68</th>\n      <td>NOX LSTAT</td>\n      <td>0.592488</td>\n    </tr>\n    <tr>\n      <th>19</th>\n      <td>CRIM RM</td>\n      <td>0.692385</td>\n    </tr>\n    <tr>\n      <th>89</th>\n      <td>DIS LSTAT</td>\n      <td>0.810410</td>\n    </tr>\n    <tr>\n      <th>104</th>\n      <td>LSTAT^2</td>\n      <td>0.822107</td>\n    </tr>\n    <tr>\n      <th>12</th>\n      <td>B</td>\n      <td>0.852722</td>\n    </tr>\n    <tr>\n      <th>26</th>\n      <td>CRIM LSTAT</td>\n      <td>0.885160</td>\n    </tr>\n    <tr>\n      <th>3</th>\n      <td>INDUS</td>\n      <td>0.895767</td>\n    </tr>\n    <tr>\n      <th>42</th>\n      <td>INDUS RM</td>\n      <td>0.937711</td>\n    </tr>\n    <tr>\n      <th>44</th>\n      <td>INDUS DIS</td>\n      <td>1.022539</td>\n    </tr>\n    <tr>\n      <th>35</th>\n      <td>ZN TAX</td>\n      <td>1.089461</td>\n    </tr>\n    <tr>\n      <th>63</th>\n      <td>NOX DIS</td>\n      <td>1.172946</td>\n    </tr>\n    <tr>\n      <th>84</th>\n      <td>DIS^2</td>\n      <td>1.281667</td>\n    </tr>\n    <tr>\n      <th>96</th>\n      <td>TAX PTRATIO</td>\n      <td>1.877365</td>\n    </tr>\n    <tr>\n      <th>79</th>\n      <td>AGE RAD</td>\n      <td>2.002135</td>\n    </tr>\n    <tr>\n      <th>41</th>\n      <td>INDUS NOX</td>\n      <td>2.360496</td>\n    </tr>\n    <tr>\n      <th>6</th>\n      <td>RM</td>\n      <td>3.429961</td>\n    </tr>\n    <tr>\n      <th>91</th>\n      <td>RAD TAX</td>\n      <td>4.083243</td>\n    </tr>\n    <tr>\n      <th>17</th>\n      <td>CRIM CHAS</td>\n      <td>4.599620</td>\n    </tr>\n  </tbody>\n</table>\n<p>105 rows \u00d7 2 columns</p>\n</div>",
                        "text/plain": "                 0         1\n90           RAD^2 -4.803638\n13           LSTAT -3.307996\n8              DIS -2.812789\n7              AGE -1.454097\n85         DIS RAD -1.431074\n94       RAD LSTAT -1.426539\n73          RM TAX -1.399134\n82           AGE B -1.355802\n83       AGE LSTAT -1.250545\n5              NOX -1.237913\n98       TAX LSTAT -1.120915\n70          RM AGE -0.986135\n62         NOX AGE -0.954266\n76        RM LSTAT -0.912320\n74      RM PTRATIO -0.907713\n51        CHAS NOX -0.905209\n52         CHAS RM -0.864616\n66     NOX PTRATIO -0.830786\n22        CRIM RAD -0.783356\n64         NOX RAD -0.771121\n72          RM RAD -0.714006\n80         AGE TAX -0.704531\n86         DIS TAX -0.684814\n60           NOX^2 -0.623731\n49     INDUS LSTAT -0.603009\n18        CRIM NOX -0.514722\n38        ZN LSTAT -0.504731\n11         PTRATIO -0.480598\n59      CHAS LSTAT -0.437701\n47   INDUS PTRATIO -0.399364\n..             ...       ...\n77           AGE^2  0.102504\n54        CHAS DIS  0.107129\n14          CRIM^2  0.117544\n46       INDUS TAX  0.150919\n27            ZN^2  0.156627\n69            RM^2  0.163943\n48         INDUS B  0.165525\n58          CHAS B  0.168054\n53        CHAS AGE  0.228849\n43       INDUS AGE  0.234004\n50          CHAS^2  0.460487\n39         INDUS^2  0.585708\n68       NOX LSTAT  0.592488\n19         CRIM RM  0.692385\n89       DIS LSTAT  0.810410\n104        LSTAT^2  0.822107\n12               B  0.852722\n26      CRIM LSTAT  0.885160\n3            INDUS  0.895767\n42        INDUS RM  0.937711\n44       INDUS DIS  1.022539\n35          ZN TAX  1.089461\n63         NOX DIS  1.172946\n84           DIS^2  1.281667\n96     TAX PTRATIO  1.877365\n79         AGE RAD  2.002135\n41       INDUS NOX  2.360496\n6               RM  3.429961\n91         RAD TAX  4.083243\n17       CRIM CHAS  4.599620\n\n[105 rows x 2 columns]"
                    },
                    "execution_count": 36,
                    "metadata": {},
                    "output_type": "execute_result"
                }
            ],
            "source": "df_importances.sort_values(by=1)"
        },
        {
            "cell_type": "markdown",
            "metadata": {},
            "source": "## Grid Search CV"
        },
        {
            "cell_type": "markdown",
            "metadata": {},
            "source": "To do cross-validation, we used two techniques:\n- use `KFolds` and manually create a loop to do cross-validation\n- use `cross_val_predict` and `score` to get a cross-valiated score in a couple of lines.\n\nTo do hyper-parameter tuning, we see a general pattern:\n- use `cross_val_predict` and `score` in a manually written loop over hyperparemeters, then select the best one.\n\nPerhaps not surprisingly, there is a function that does this for us -- `GridSearchCV`"
        },
        {
            "cell_type": "code",
            "execution_count": 37,
            "metadata": {
                "ExecuteTime": {
                    "end_time": "2019-02-19T18:02:31.945804Z",
                    "start_time": "2019-02-19T18:02:31.938416Z"
                }
            },
            "outputs": [],
            "source": "from sklearn.model_selection import GridSearchCV\n\n# Same estimator as before\nestimator = Pipeline([(\"scaler\", StandardScaler()),\n        (\"polynomial_features\", PolynomialFeatures()),\n        (\"ridge_regression\", Ridge())])\n\nparams = {\n    'polynomial_features__degree': [1, 2, 3],\n    'ridge_regression__alpha': np.geomspace(4, 20, 30)\n}\n\ngrid = GridSearchCV(estimator, params, cv=kf)"
        },
        {
            "cell_type": "code",
            "execution_count": 38,
            "metadata": {
                "ExecuteTime": {
                    "end_time": "2019-02-19T18:02:49.319148Z",
                    "start_time": "2019-02-19T18:02:46.093880Z"
                }
            },
            "outputs": [
                {
                    "name": "stderr",
                    "output_type": "stream",
                    "text": "/opt/conda/envs/Python36/lib/python3.6/site-packages/sklearn/model_selection/_search.py:841: DeprecationWarning: The default of the `iid` parameter will change from True to False in version 0.22 and will be removed in 0.24. This will change numeric results when test-set sizes are unequal.\n  DeprecationWarning)\n"
                },
                {
                    "data": {
                        "text/plain": "GridSearchCV(cv=KFold(n_splits=3, random_state=72018, shuffle=True),\n       error_score='raise-deprecating',\n       estimator=Pipeline(memory=None,\n     steps=[('scaler', StandardScaler(copy=True, with_mean=True, with_std=True)), ('polynomial_features', PolynomialFeatures(degree=2, include_bias=True, interaction_only=False)), ('ridge_regression', Ridge(alpha=1.0, copy_X=True, fit_intercept=True, max_iter=None,\n   normalize=False, random_state=None, solver='auto', tol=0.001))]),\n       fit_params=None, iid='warn', n_jobs=None,\n       param_grid={'polynomial_features__degree': [1, 2, 3], 'ridge_regression__alpha': array([ 4.     ,  4.22827,  4.46956,  4.72462,  4.99424,  5.27925,\n        5.58052,  5.89898,  6.23562,  6.59146,  6.96761,  7.36523,\n        7.78554,  8.22984,  8.69949,  9.19594,  9.72072, 10.27545,\n       10.86184, 11.48169, 12.13691, 12.82953, 13.56167, 14.33559,\n       15.15367, 16.01844, 16.93257, 17.89885, 18.92028, 20.     ])},\n       pre_dispatch='2*n_jobs', refit=True, return_train_score='warn',\n       scoring=None, verbose=0)"
                    },
                    "execution_count": 38,
                    "metadata": {},
                    "output_type": "execute_result"
                }
            ],
            "source": "grid.fit(X, y)"
        },
        {
            "cell_type": "code",
            "execution_count": 39,
            "metadata": {
                "ExecuteTime": {
                    "end_time": "2019-02-19T18:03:07.016198Z",
                    "start_time": "2019-02-19T18:03:07.010215Z"
                }
            },
            "outputs": [
                {
                    "data": {
                        "text/plain": "(0.8504975378207537,\n {'polynomial_features__degree': 2,\n  'ridge_regression__alpha': 15.153673507519274})"
                    },
                    "execution_count": 39,
                    "metadata": {},
                    "output_type": "execute_result"
                }
            ],
            "source": "grid.best_score_, grid.best_params_"
        },
        {
            "cell_type": "code",
            "execution_count": 40,
            "metadata": {
                "ExecuteTime": {
                    "end_time": "2019-02-19T18:03:31.735568Z",
                    "start_time": "2019-02-19T18:03:31.728658Z"
                }
            },
            "outputs": [],
            "source": "y_predict = grid.predict(X)"
        },
        {
            "cell_type": "code",
            "execution_count": 41,
            "metadata": {
                "ExecuteTime": {
                    "end_time": "2019-02-19T18:04:17.838943Z",
                    "start_time": "2019-02-19T18:04:17.832872Z"
                }
            },
            "outputs": [
                {
                    "data": {
                        "text/plain": "0.9149145594213683"
                    },
                    "execution_count": 41,
                    "metadata": {},
                    "output_type": "execute_result"
                }
            ],
            "source": "# This includes both in-sample and out-of-sample\nr2_score(y, y_predict)"
        },
        {
            "cell_type": "code",
            "execution_count": 42,
            "metadata": {
                "ExecuteTime": {
                    "end_time": "2019-02-19T18:04:27.088854Z",
                    "start_time": "2019-02-19T18:04:27.082915Z"
                }
            },
            "outputs": [
                {
                    "data": {
                        "text/plain": "array([ 0.00000000e+00, -1.27346408e-01, -6.16205046e-03,  2.36135244e-02,\n        1.00398027e-01, -9.74110586e-01,  3.26236441e+00, -9.65057238e-01,\n       -1.96344725e+00,  8.56769182e-01, -1.01488960e+00, -7.06985966e-01,\n        5.52029222e-01, -3.03254502e+00,  7.74127927e-02,  7.24276605e-02,\n        6.82776638e-02,  1.72849044e+00, -4.80758341e-01,  5.76219972e-01,\n        1.28132069e-01,  2.22931335e-01, -7.45243542e-01,  1.66582495e-01,\n       -8.00025634e-02, -8.54571642e-02,  5.07490801e-01,  2.14820391e-01,\n       -1.48833274e-01,  1.42098626e-01,  1.93770221e-01,  5.02304885e-02,\n       -1.12667821e-01, -2.77559685e-01, -1.32870713e-01,  7.32239658e-01,\n        5.26857333e-02,  8.89966580e-02, -2.72228558e-01,  5.84383917e-01,\n        1.06306947e-01,  9.62971619e-01,  5.76845132e-01,  5.33378179e-01,\n        7.07913980e-01, -6.21760626e-02,  7.57641545e-02, -4.28157866e-01,\n        2.40651011e-01, -6.82201736e-01,  3.40931549e-01, -9.62217889e-01,\n       -8.14997204e-01,  2.81353294e-01,  5.50023518e-02,  8.65917517e-02,\n        6.28285056e-01, -1.40764851e-01, -1.03645734e-01, -3.81965497e-01,\n       -4.48817407e-01, -4.46562934e-01, -4.97293983e-01,  7.52862844e-01,\n       -8.00745322e-01,  7.86779267e-02, -5.78298566e-01, -4.98398516e-02,\n        5.37001246e-01,  2.24913740e-01, -7.11059542e-01,  5.70498060e-02,\n       -7.85214394e-01, -9.18516132e-01, -1.02907666e+00, -1.58937491e-01,\n       -7.77699453e-01,  1.42895792e-01,  7.72299871e-02,  1.08239035e+00,\n        3.98859145e-02, -7.26596891e-02, -9.64695031e-01, -1.12682105e+00,\n        1.01829108e+00, -6.12786851e-01, -4.22714073e-01, -1.41672983e-01,\n       -2.68672373e-01,  8.23071041e-01, -8.66106901e-01,  8.83695240e-01,\n        3.63975663e-01, -1.13200717e-01, -1.12043738e+00,  2.19170412e-03,\n        1.30087563e+00, -3.65505003e-01, -1.08425883e+00, -1.16852284e-01,\n        8.62081670e-02,  1.40937541e-03, -3.62535906e-01, -4.04519520e-01,\n        8.07960994e-01])"
                    },
                    "execution_count": 42,
                    "metadata": {},
                    "output_type": "execute_result"
                }
            ],
            "source": "# Notice that \"grid\" is a fit object!\n# We can use grid.predict(X_test) to get brand new predictions!\ngrid.best_estimator_.named_steps['ridge_regression'].coef_"
        },
        {
            "cell_type": "code",
            "execution_count": 43,
            "metadata": {
                "ExecuteTime": {
                    "end_time": "2019-02-19T18:05:34.756588Z",
                    "start_time": "2019-02-19T18:05:34.728508Z"
                }
            },
            "outputs": [
                {
                    "name": "stderr",
                    "output_type": "stream",
                    "text": "/opt/conda/envs/Python36/lib/python3.6/site-packages/sklearn/utils/deprecation.py:125: FutureWarning: You are accessing a training score ('split0_train_score'), which will not be available by default any more in 0.21. If you need training scores, please set return_train_score=True\n  warnings.warn(*warn_args, **warn_kwargs)\n/opt/conda/envs/Python36/lib/python3.6/site-packages/sklearn/utils/deprecation.py:125: FutureWarning: You are accessing a training score ('split1_train_score'), which will not be available by default any more in 0.21. If you need training scores, please set return_train_score=True\n  warnings.warn(*warn_args, **warn_kwargs)\n/opt/conda/envs/Python36/lib/python3.6/site-packages/sklearn/utils/deprecation.py:125: FutureWarning: You are accessing a training score ('split2_train_score'), which will not be available by default any more in 0.21. If you need training scores, please set return_train_score=True\n  warnings.warn(*warn_args, **warn_kwargs)\n/opt/conda/envs/Python36/lib/python3.6/site-packages/sklearn/utils/deprecation.py:125: FutureWarning: You are accessing a training score ('mean_train_score'), which will not be available by default any more in 0.21. If you need training scores, please set return_train_score=True\n  warnings.warn(*warn_args, **warn_kwargs)\n/opt/conda/envs/Python36/lib/python3.6/site-packages/sklearn/utils/deprecation.py:125: FutureWarning: You are accessing a training score ('std_train_score'), which will not be available by default any more in 0.21. If you need training scores, please set return_train_score=True\n  warnings.warn(*warn_args, **warn_kwargs)\n"
                },
                {
                    "data": {
                        "text/html": "<div>\n<style scoped>\n    .dataframe tbody tr th:only-of-type {\n        vertical-align: middle;\n    }\n\n    .dataframe tbody tr th {\n        vertical-align: top;\n    }\n\n    .dataframe thead th {\n        text-align: right;\n    }\n</style>\n<table border=\"1\" class=\"dataframe\">\n  <thead>\n    <tr style=\"text-align: right;\">\n      <th></th>\n      <th>mean_fit_time</th>\n      <th>std_fit_time</th>\n      <th>mean_score_time</th>\n      <th>std_score_time</th>\n      <th>param_polynomial_features__degree</th>\n      <th>param_ridge_regression__alpha</th>\n      <th>params</th>\n      <th>split0_test_score</th>\n      <th>split1_test_score</th>\n      <th>split2_test_score</th>\n      <th>mean_test_score</th>\n      <th>std_test_score</th>\n      <th>rank_test_score</th>\n      <th>split0_train_score</th>\n      <th>split1_train_score</th>\n      <th>split2_train_score</th>\n      <th>mean_train_score</th>\n      <th>std_train_score</th>\n    </tr>\n  </thead>\n  <tbody>\n    <tr>\n      <th>0</th>\n      <td>0.004738</td>\n      <td>0.000674</td>\n      <td>0.004324</td>\n      <td>0.003960</td>\n      <td>1</td>\n      <td>4</td>\n      <td>{'polynomial_features__degree': 1, 'ridge_regr...</td>\n      <td>0.672111</td>\n      <td>0.748235</td>\n      <td>0.701801</td>\n      <td>0.707393</td>\n      <td>0.031357</td>\n      <td>60</td>\n      <td>0.765659</td>\n      <td>0.732051</td>\n      <td>0.743390</td>\n      <td>0.747033</td>\n      <td>0.013960</td>\n    </tr>\n    <tr>\n      <th>1</th>\n      <td>0.004312</td>\n      <td>0.000122</td>\n      <td>0.001523</td>\n      <td>0.000010</td>\n      <td>1</td>\n      <td>4.22827</td>\n      <td>{'polynomial_features__degree': 1, 'ridge_regr...</td>\n      <td>0.672103</td>\n      <td>0.748207</td>\n      <td>0.701986</td>\n      <td>0.707443</td>\n      <td>0.031337</td>\n      <td>59</td>\n      <td>0.765622</td>\n      <td>0.732017</td>\n      <td>0.743345</td>\n      <td>0.746994</td>\n      <td>0.013960</td>\n    </tr>\n    <tr>\n      <th>2</th>\n      <td>0.004194</td>\n      <td>0.000014</td>\n      <td>0.001516</td>\n      <td>0.000004</td>\n      <td>1</td>\n      <td>4.46956</td>\n      <td>{'polynomial_features__degree': 1, 'ridge_regr...</td>\n      <td>0.672093</td>\n      <td>0.748175</td>\n      <td>0.702178</td>\n      <td>0.707493</td>\n      <td>0.031316</td>\n      <td>58</td>\n      <td>0.765582</td>\n      <td>0.731979</td>\n      <td>0.743295</td>\n      <td>0.746952</td>\n      <td>0.013960</td>\n    </tr>\n    <tr>\n      <th>3</th>\n      <td>0.004199</td>\n      <td>0.000018</td>\n      <td>0.001569</td>\n      <td>0.000005</td>\n      <td>1</td>\n      <td>4.72462</td>\n      <td>{'polynomial_features__degree': 1, 'ridge_regr...</td>\n      <td>0.672081</td>\n      <td>0.748141</td>\n      <td>0.702375</td>\n      <td>0.707543</td>\n      <td>0.031295</td>\n      <td>57</td>\n      <td>0.765538</td>\n      <td>0.731938</td>\n      <td>0.743240</td>\n      <td>0.746905</td>\n      <td>0.013960</td>\n    </tr>\n    <tr>\n      <th>4</th>\n      <td>0.004204</td>\n      <td>0.000013</td>\n      <td>0.001580</td>\n      <td>0.000010</td>\n      <td>1</td>\n      <td>4.99424</td>\n      <td>{'polynomial_features__degree': 1, 'ridge_regr...</td>\n      <td>0.672067</td>\n      <td>0.748104</td>\n      <td>0.702579</td>\n      <td>0.707593</td>\n      <td>0.031273</td>\n      <td>56</td>\n      <td>0.765489</td>\n      <td>0.731894</td>\n      <td>0.743180</td>\n      <td>0.746854</td>\n      <td>0.013959</td>\n    </tr>\n    <tr>\n      <th>5</th>\n      <td>0.004211</td>\n      <td>0.000046</td>\n      <td>0.001526</td>\n      <td>0.000007</td>\n      <td>1</td>\n      <td>5.27925</td>\n      <td>{'polynomial_features__degree': 1, 'ridge_regr...</td>\n      <td>0.672050</td>\n      <td>0.748063</td>\n      <td>0.702788</td>\n      <td>0.707643</td>\n      <td>0.031251</td>\n      <td>55</td>\n      <td>0.765437</td>\n      <td>0.731844</td>\n      <td>0.743115</td>\n      <td>0.746799</td>\n      <td>0.013959</td>\n    </tr>\n    <tr>\n      <th>6</th>\n      <td>0.004189</td>\n      <td>0.000005</td>\n      <td>0.001525</td>\n      <td>0.000007</td>\n      <td>1</td>\n      <td>5.58052</td>\n      <td>{'polynomial_features__degree': 1, 'ridge_regr...</td>\n      <td>0.672030</td>\n      <td>0.748018</td>\n      <td>0.703003</td>\n      <td>0.707693</td>\n      <td>0.031228</td>\n      <td>54</td>\n      <td>0.765379</td>\n      <td>0.731791</td>\n      <td>0.743043</td>\n      <td>0.746738</td>\n      <td>0.013959</td>\n    </tr>\n    <tr>\n      <th>7</th>\n      <td>0.004220</td>\n      <td>0.000010</td>\n      <td>0.001526</td>\n      <td>0.000010</td>\n      <td>1</td>\n      <td>5.89898</td>\n      <td>{'polynomial_features__degree': 1, 'ridge_regr...</td>\n      <td>0.672007</td>\n      <td>0.747969</td>\n      <td>0.703223</td>\n      <td>0.707742</td>\n      <td>0.031205</td>\n      <td>53</td>\n      <td>0.765316</td>\n      <td>0.731732</td>\n      <td>0.742966</td>\n      <td>0.746671</td>\n      <td>0.013959</td>\n    </tr>\n    <tr>\n      <th>8</th>\n      <td>0.004239</td>\n      <td>0.000013</td>\n      <td>0.001562</td>\n      <td>0.000030</td>\n      <td>1</td>\n      <td>6.23562</td>\n      <td>{'polynomial_features__degree': 1, 'ridge_regr...</td>\n      <td>0.671980</td>\n      <td>0.747915</td>\n      <td>0.703449</td>\n      <td>0.707790</td>\n      <td>0.031181</td>\n      <td>52</td>\n      <td>0.765248</td>\n      <td>0.731668</td>\n      <td>0.742881</td>\n      <td>0.746599</td>\n      <td>0.013959</td>\n    </tr>\n    <tr>\n      <th>9</th>\n      <td>0.004358</td>\n      <td>0.000115</td>\n      <td>0.001578</td>\n      <td>0.000027</td>\n      <td>1</td>\n      <td>6.59146</td>\n      <td>{'polynomial_features__degree': 1, 'ridge_regr...</td>\n      <td>0.671950</td>\n      <td>0.747856</td>\n      <td>0.703679</td>\n      <td>0.707836</td>\n      <td>0.031157</td>\n      <td>50</td>\n      <td>0.765174</td>\n      <td>0.731598</td>\n      <td>0.742789</td>\n      <td>0.746520</td>\n      <td>0.013959</td>\n    </tr>\n    <tr>\n      <th>10</th>\n      <td>0.004259</td>\n      <td>0.000018</td>\n      <td>0.001536</td>\n      <td>0.000007</td>\n      <td>1</td>\n      <td>6.96761</td>\n      <td>{'polynomial_features__degree': 1, 'ridge_regr...</td>\n      <td>0.671915</td>\n      <td>0.747791</td>\n      <td>0.703915</td>\n      <td>0.707882</td>\n      <td>0.031133</td>\n      <td>48</td>\n      <td>0.765093</td>\n      <td>0.731521</td>\n      <td>0.742689</td>\n      <td>0.746434</td>\n      <td>0.013959</td>\n    </tr>\n    <tr>\n      <th>11</th>\n      <td>0.007119</td>\n      <td>0.003928</td>\n      <td>0.001588</td>\n      <td>0.000085</td>\n      <td>1</td>\n      <td>7.36523</td>\n      <td>{'polynomial_features__degree': 1, 'ridge_regr...</td>\n      <td>0.671877</td>\n      <td>0.747721</td>\n      <td>0.704155</td>\n      <td>0.707925</td>\n      <td>0.031108</td>\n      <td>47</td>\n      <td>0.765005</td>\n      <td>0.731438</td>\n      <td>0.742580</td>\n      <td>0.746341</td>\n      <td>0.013959</td>\n    </tr>\n    <tr>\n      <th>12</th>\n      <td>0.005207</td>\n      <td>0.000434</td>\n      <td>0.001854</td>\n      <td>0.000214</td>\n      <td>1</td>\n      <td>7.78554</td>\n      <td>{'polynomial_features__degree': 1, 'ridge_regr...</td>\n      <td>0.671833</td>\n      <td>0.747645</td>\n      <td>0.704400</td>\n      <td>0.707966</td>\n      <td>0.031082</td>\n      <td>45</td>\n      <td>0.764910</td>\n      <td>0.731348</td>\n      <td>0.742462</td>\n      <td>0.746240</td>\n      <td>0.013960</td>\n    </tr>\n    <tr>\n      <th>13</th>\n      <td>0.004516</td>\n      <td>0.000158</td>\n      <td>0.001600</td>\n      <td>0.000093</td>\n      <td>1</td>\n      <td>8.22984</td>\n      <td>{'polynomial_features__degree': 1, 'ridge_regr...</td>\n      <td>0.671785</td>\n      <td>0.747561</td>\n      <td>0.704648</td>\n      <td>0.708005</td>\n      <td>0.031056</td>\n      <td>44</td>\n      <td>0.764807</td>\n      <td>0.731249</td>\n      <td>0.742335</td>\n      <td>0.746130</td>\n      <td>0.013960</td>\n    </tr>\n    <tr>\n      <th>14</th>\n      <td>0.005064</td>\n      <td>0.000913</td>\n      <td>0.001545</td>\n      <td>0.000018</td>\n      <td>1</td>\n      <td>8.69949</td>\n      <td>{'polynomial_features__degree': 1, 'ridge_regr...</td>\n      <td>0.671731</td>\n      <td>0.747471</td>\n      <td>0.704900</td>\n      <td>0.708040</td>\n      <td>0.031030</td>\n      <td>42</td>\n      <td>0.764695</td>\n      <td>0.731142</td>\n      <td>0.742196</td>\n      <td>0.746011</td>\n      <td>0.013961</td>\n    </tr>\n    <tr>\n      <th>15</th>\n      <td>0.004299</td>\n      <td>0.000018</td>\n      <td>0.001571</td>\n      <td>0.000052</td>\n      <td>1</td>\n      <td>9.19594</td>\n      <td>{'polynomial_features__degree': 1, 'ridge_regr...</td>\n      <td>0.671671</td>\n      <td>0.747372</td>\n      <td>0.705155</td>\n      <td>0.708072</td>\n      <td>0.031003</td>\n      <td>40</td>\n      <td>0.764574</td>\n      <td>0.731026</td>\n      <td>0.742047</td>\n      <td>0.745883</td>\n      <td>0.013962</td>\n    </tr>\n    <tr>\n      <th>16</th>\n      <td>0.004216</td>\n      <td>0.000018</td>\n      <td>0.001589</td>\n      <td>0.000059</td>\n      <td>1</td>\n      <td>9.72072</td>\n      <td>{'polynomial_features__degree': 1, 'ridge_regr...</td>\n      <td>0.671606</td>\n      <td>0.747265</td>\n      <td>0.705413</td>\n      <td>0.708100</td>\n      <td>0.030976</td>\n      <td>39</td>\n      <td>0.764444</td>\n      <td>0.730900</td>\n      <td>0.741886</td>\n      <td>0.745743</td>\n      <td>0.013963</td>\n    </tr>\n    <tr>\n      <th>17</th>\n      <td>0.004230</td>\n      <td>0.000029</td>\n      <td>0.001522</td>\n      <td>0.000005</td>\n      <td>1</td>\n      <td>10.2755</td>\n      <td>{'polynomial_features__degree': 1, 'ridge_regr...</td>\n      <td>0.671533</td>\n      <td>0.747149</td>\n      <td>0.705672</td>\n      <td>0.708123</td>\n      <td>0.030949</td>\n      <td>37</td>\n      <td>0.764303</td>\n      <td>0.730764</td>\n      <td>0.741712</td>\n      <td>0.745593</td>\n      <td>0.013965</td>\n    </tr>\n    <tr>\n      <th>18</th>\n      <td>0.004297</td>\n      <td>0.000078</td>\n      <td>0.001521</td>\n      <td>0.000013</td>\n      <td>1</td>\n      <td>10.8618</td>\n      <td>{'polynomial_features__degree': 1, 'ridge_regr...</td>\n      <td>0.671453</td>\n      <td>0.747022</td>\n      <td>0.705933</td>\n      <td>0.708141</td>\n      <td>0.030921</td>\n      <td>35</td>\n      <td>0.764151</td>\n      <td>0.730616</td>\n      <td>0.741524</td>\n      <td>0.745431</td>\n      <td>0.013966</td>\n    </tr>\n    <tr>\n      <th>19</th>\n      <td>0.004201</td>\n      <td>0.000010</td>\n      <td>0.001564</td>\n      <td>0.000041</td>\n      <td>1</td>\n      <td>11.4817</td>\n      <td>{'polynomial_features__degree': 1, 'ridge_regr...</td>\n      <td>0.671366</td>\n      <td>0.746886</td>\n      <td>0.706195</td>\n      <td>0.708153</td>\n      <td>0.030892</td>\n      <td>33</td>\n      <td>0.763987</td>\n      <td>0.730457</td>\n      <td>0.741322</td>\n      <td>0.745255</td>\n      <td>0.013968</td>\n    </tr>\n    <tr>\n      <th>20</th>\n      <td>0.004248</td>\n      <td>0.000083</td>\n      <td>0.001667</td>\n      <td>0.000108</td>\n      <td>1</td>\n      <td>12.1369</td>\n      <td>{'polynomial_features__degree': 1, 'ridge_regr...</td>\n      <td>0.671271</td>\n      <td>0.746738</td>\n      <td>0.706456</td>\n      <td>0.708159</td>\n      <td>0.030863</td>\n      <td>31</td>\n      <td>0.763811</td>\n      <td>0.730284</td>\n      <td>0.741105</td>\n      <td>0.745067</td>\n      <td>0.013971</td>\n    </tr>\n    <tr>\n      <th>21</th>\n      <td>0.004488</td>\n      <td>0.000377</td>\n      <td>0.001601</td>\n      <td>0.000125</td>\n      <td>1</td>\n      <td>12.8295</td>\n      <td>{'polynomial_features__degree': 1, 'ridge_regr...</td>\n      <td>0.671168</td>\n      <td>0.746578</td>\n      <td>0.706717</td>\n      <td>0.708157</td>\n      <td>0.030833</td>\n      <td>32</td>\n      <td>0.763622</td>\n      <td>0.730099</td>\n      <td>0.740872</td>\n      <td>0.744864</td>\n      <td>0.013974</td>\n    </tr>\n    <tr>\n      <th>22</th>\n      <td>0.004185</td>\n      <td>0.000011</td>\n      <td>0.001562</td>\n      <td>0.000049</td>\n      <td>1</td>\n      <td>13.5617</td>\n      <td>{'polynomial_features__degree': 1, 'ridge_regr...</td>\n      <td>0.671056</td>\n      <td>0.746405</td>\n      <td>0.706975</td>\n      <td>0.708148</td>\n      <td>0.030803</td>\n      <td>34</td>\n      <td>0.763418</td>\n      <td>0.729898</td>\n      <td>0.740622</td>\n      <td>0.744646</td>\n      <td>0.013977</td>\n    </tr>\n    <tr>\n      <th>23</th>\n      <td>0.004231</td>\n      <td>0.000014</td>\n      <td>0.001524</td>\n      <td>0.000023</td>\n      <td>1</td>\n      <td>14.3356</td>\n      <td>{'polynomial_features__degree': 1, 'ridge_regr...</td>\n      <td>0.670934</td>\n      <td>0.746219</td>\n      <td>0.707232</td>\n      <td>0.708130</td>\n      <td>0.030772</td>\n      <td>36</td>\n      <td>0.763200</td>\n      <td>0.729683</td>\n      <td>0.740354</td>\n      <td>0.744412</td>\n      <td>0.013981</td>\n    </tr>\n    <tr>\n      <th>24</th>\n      <td>0.004183</td>\n      <td>0.000010</td>\n      <td>0.001515</td>\n      <td>0.000009</td>\n      <td>1</td>\n      <td>15.1537</td>\n      <td>{'polynomial_features__degree': 1, 'ridge_regr...</td>\n      <td>0.670802</td>\n      <td>0.746018</td>\n      <td>0.707484</td>\n      <td>0.708103</td>\n      <td>0.030740</td>\n      <td>38</td>\n      <td>0.762965</td>\n      <td>0.729451</td>\n      <td>0.740066</td>\n      <td>0.744161</td>\n      <td>0.013985</td>\n    </tr>\n    <tr>\n      <th>25</th>\n      <td>0.004175</td>\n      <td>0.000014</td>\n      <td>0.001584</td>\n      <td>0.000026</td>\n      <td>1</td>\n      <td>16.0184</td>\n      <td>{'polynomial_features__degree': 1, 'ridge_regr...</td>\n      <td>0.670660</td>\n      <td>0.745801</td>\n      <td>0.707732</td>\n      <td>0.708065</td>\n      <td>0.030708</td>\n      <td>41</td>\n      <td>0.762714</td>\n      <td>0.729202</td>\n      <td>0.739759</td>\n      <td>0.743892</td>\n      <td>0.013990</td>\n    </tr>\n    <tr>\n      <th>26</th>\n      <td>0.004168</td>\n      <td>0.000016</td>\n      <td>0.001584</td>\n      <td>0.000012</td>\n      <td>1</td>\n      <td>16.9326</td>\n      <td>{'polynomial_features__degree': 1, 'ridge_regr...</td>\n      <td>0.670506</td>\n      <td>0.745568</td>\n      <td>0.707974</td>\n      <td>0.708016</td>\n      <td>0.030674</td>\n      <td>43</td>\n      <td>0.762446</td>\n      <td>0.728934</td>\n      <td>0.739430</td>\n      <td>0.743603</td>\n      <td>0.013996</td>\n    </tr>\n    <tr>\n      <th>27</th>\n      <td>0.004211</td>\n      <td>0.000007</td>\n      <td>0.001540</td>\n      <td>0.000037</td>\n      <td>1</td>\n      <td>17.8989</td>\n      <td>{'polynomial_features__degree': 1, 'ridge_regr...</td>\n      <td>0.670341</td>\n      <td>0.745317</td>\n      <td>0.708208</td>\n      <td>0.707955</td>\n      <td>0.030639</td>\n      <td>46</td>\n      <td>0.762158</td>\n      <td>0.728647</td>\n      <td>0.739080</td>\n      <td>0.743295</td>\n      <td>0.014002</td>\n    </tr>\n    <tr>\n      <th>28</th>\n      <td>0.004292</td>\n      <td>0.000033</td>\n      <td>0.001565</td>\n      <td>0.000054</td>\n      <td>1</td>\n      <td>18.9203</td>\n      <td>{'polynomial_features__degree': 1, 'ridge_regr...</td>\n      <td>0.670164</td>\n      <td>0.745048</td>\n      <td>0.708435</td>\n      <td>0.707881</td>\n      <td>0.030604</td>\n      <td>49</td>\n      <td>0.761851</td>\n      <td>0.728339</td>\n      <td>0.738705</td>\n      <td>0.742965</td>\n      <td>0.014009</td>\n    </tr>\n    <tr>\n      <th>29</th>\n      <td>0.004288</td>\n      <td>0.000017</td>\n      <td>0.001613</td>\n      <td>0.000021</td>\n      <td>1</td>\n      <td>20</td>\n      <td>{'polynomial_features__degree': 1, 'ridge_regr...</td>\n      <td>0.669974</td>\n      <td>0.744758</td>\n      <td>0.708651</td>\n      <td>0.707793</td>\n      <td>0.030566</td>\n      <td>51</td>\n      <td>0.761523</td>\n      <td>0.728010</td>\n      <td>0.738306</td>\n      <td>0.742613</td>\n      <td>0.014017</td>\n    </tr>\n    <tr>\n      <th>...</th>\n      <td>...</td>\n      <td>...</td>\n      <td>...</td>\n      <td>...</td>\n      <td>...</td>\n      <td>...</td>\n      <td>...</td>\n      <td>...</td>\n      <td>...</td>\n      <td>...</td>\n      <td>...</td>\n      <td>...</td>\n      <td>...</td>\n      <td>...</td>\n      <td>...</td>\n      <td>...</td>\n      <td>...</td>\n      <td>...</td>\n    </tr>\n    <tr>\n      <th>60</th>\n      <td>0.020037</td>\n      <td>0.000911</td>\n      <td>0.010517</td>\n      <td>0.001911</td>\n      <td>3</td>\n      <td>4</td>\n      <td>{'polynomial_features__degree': 3, 'ridge_regr...</td>\n      <td>0.460323</td>\n      <td>0.622404</td>\n      <td>0.196931</td>\n      <td>0.427007</td>\n      <td>0.175208</td>\n      <td>90</td>\n      <td>0.976990</td>\n      <td>0.983499</td>\n      <td>0.977697</td>\n      <td>0.979396</td>\n      <td>0.002916</td>\n    </tr>\n    <tr>\n      <th>61</th>\n      <td>0.019005</td>\n      <td>0.000515</td>\n      <td>0.008061</td>\n      <td>0.000011</td>\n      <td>3</td>\n      <td>4.22827</td>\n      <td>{'polynomial_features__degree': 3, 'ridge_regr...</td>\n      <td>0.466577</td>\n      <td>0.634059</td>\n      <td>0.218160</td>\n      <td>0.440037</td>\n      <td>0.170743</td>\n      <td>89</td>\n      <td>0.976510</td>\n      <td>0.983157</td>\n      <td>0.977301</td>\n      <td>0.978989</td>\n      <td>0.002965</td>\n    </tr>\n    <tr>\n      <th>62</th>\n      <td>0.022073</td>\n      <td>0.004107</td>\n      <td>0.008206</td>\n      <td>0.000111</td>\n      <td>3</td>\n      <td>4.46956</td>\n      <td>{'polynomial_features__degree': 3, 'ridge_regr...</td>\n      <td>0.472713</td>\n      <td>0.645280</td>\n      <td>0.238909</td>\n      <td>0.452722</td>\n      <td>0.166421</td>\n      <td>88</td>\n      <td>0.976021</td>\n      <td>0.982807</td>\n      <td>0.976897</td>\n      <td>0.978575</td>\n      <td>0.003014</td>\n    </tr>\n    <tr>\n      <th>63</th>\n      <td>0.018684</td>\n      <td>0.000259</td>\n      <td>0.008166</td>\n      <td>0.000047</td>\n      <td>3</td>\n      <td>4.72462</td>\n      <td>{'polynomial_features__degree': 3, 'ridge_regr...</td>\n      <td>0.478741</td>\n      <td>0.656072</td>\n      <td>0.259172</td>\n      <td>0.465068</td>\n      <td>0.162242</td>\n      <td>87</td>\n      <td>0.975524</td>\n      <td>0.982451</td>\n      <td>0.976485</td>\n      <td>0.978153</td>\n      <td>0.003064</td>\n    </tr>\n    <tr>\n      <th>64</th>\n      <td>0.020220</td>\n      <td>0.001181</td>\n      <td>0.008266</td>\n      <td>0.000285</td>\n      <td>3</td>\n      <td>4.99424</td>\n      <td>{'polynomial_features__degree': 3, 'ridge_regr...</td>\n      <td>0.484671</td>\n      <td>0.666443</td>\n      <td>0.278946</td>\n      <td>0.477078</td>\n      <td>0.158208</td>\n      <td>86</td>\n      <td>0.975019</td>\n      <td>0.982086</td>\n      <td>0.976065</td>\n      <td>0.977723</td>\n      <td>0.003115</td>\n    </tr>\n    <tr>\n      <th>65</th>\n      <td>0.018943</td>\n      <td>0.000081</td>\n      <td>0.008037</td>\n      <td>0.000006</td>\n      <td>3</td>\n      <td>5.27925</td>\n      <td>{'polynomial_features__degree': 3, 'ridge_regr...</td>\n      <td>0.490512</td>\n      <td>0.676400</td>\n      <td>0.298230</td>\n      <td>0.488757</td>\n      <td>0.154315</td>\n      <td>85</td>\n      <td>0.974504</td>\n      <td>0.981714</td>\n      <td>0.975637</td>\n      <td>0.977285</td>\n      <td>0.003166</td>\n    </tr>\n    <tr>\n      <th>66</th>\n      <td>0.024548</td>\n      <td>0.008243</td>\n      <td>0.008494</td>\n      <td>0.000337</td>\n      <td>3</td>\n      <td>5.58052</td>\n      <td>{'polynomial_features__degree': 3, 'ridge_regr...</td>\n      <td>0.496272</td>\n      <td>0.685952</td>\n      <td>0.317024</td>\n      <td>0.500110</td>\n      <td>0.150564</td>\n      <td>84</td>\n      <td>0.973981</td>\n      <td>0.981335</td>\n      <td>0.975200</td>\n      <td>0.976839</td>\n      <td>0.003218</td>\n    </tr>\n    <tr>\n      <th>67</th>\n      <td>0.021373</td>\n      <td>0.000728</td>\n      <td>0.008550</td>\n      <td>0.000348</td>\n      <td>3</td>\n      <td>5.89898</td>\n      <td>{'polynomial_features__degree': 3, 'ridge_regr...</td>\n      <td>0.501957</td>\n      <td>0.695107</td>\n      <td>0.335328</td>\n      <td>0.511144</td>\n      <td>0.146950</td>\n      <td>83</td>\n      <td>0.973449</td>\n      <td>0.980948</td>\n      <td>0.974754</td>\n      <td>0.976384</td>\n      <td>0.003271</td>\n    </tr>\n    <tr>\n      <th>68</th>\n      <td>0.018997</td>\n      <td>0.000180</td>\n      <td>0.008299</td>\n      <td>0.000085</td>\n      <td>3</td>\n      <td>6.23562</td>\n      <td>{'polynomial_features__degree': 3, 'ridge_regr...</td>\n      <td>0.507575</td>\n      <td>0.703872</td>\n      <td>0.353147</td>\n      <td>0.521864</td>\n      <td>0.143469</td>\n      <td>82</td>\n      <td>0.972908</td>\n      <td>0.980554</td>\n      <td>0.974299</td>\n      <td>0.975920</td>\n      <td>0.003325</td>\n    </tr>\n    <tr>\n      <th>69</th>\n      <td>0.020786</td>\n      <td>0.002413</td>\n      <td>0.009046</td>\n      <td>0.001268</td>\n      <td>3</td>\n      <td>6.59146</td>\n      <td>{'polynomial_features__degree': 3, 'ridge_regr...</td>\n      <td>0.513131</td>\n      <td>0.712259</td>\n      <td>0.370484</td>\n      <td>0.532277</td>\n      <td>0.140117</td>\n      <td>81</td>\n      <td>0.972358</td>\n      <td>0.980152</td>\n      <td>0.973836</td>\n      <td>0.975449</td>\n      <td>0.003380</td>\n    </tr>\n    <tr>\n      <th>70</th>\n      <td>0.023526</td>\n      <td>0.002011</td>\n      <td>0.009093</td>\n      <td>0.000357</td>\n      <td>3</td>\n      <td>6.96761</td>\n      <td>{'polynomial_features__degree': 3, 'ridge_regr...</td>\n      <td>0.518629</td>\n      <td>0.720275</td>\n      <td>0.387344</td>\n      <td>0.542388</td>\n      <td>0.136889</td>\n      <td>80</td>\n      <td>0.971800</td>\n      <td>0.979742</td>\n      <td>0.973363</td>\n      <td>0.974968</td>\n      <td>0.003435</td>\n    </tr>\n    <tr>\n      <th>71</th>\n      <td>0.020208</td>\n      <td>0.000556</td>\n      <td>0.008618</td>\n      <td>0.000454</td>\n      <td>3</td>\n      <td>7.36523</td>\n      <td>{'polynomial_features__degree': 3, 'ridge_regr...</td>\n      <td>0.524073</td>\n      <td>0.727930</td>\n      <td>0.403733</td>\n      <td>0.552205</td>\n      <td>0.133778</td>\n      <td>79</td>\n      <td>0.971232</td>\n      <td>0.979324</td>\n      <td>0.972880</td>\n      <td>0.974479</td>\n      <td>0.003492</td>\n    </tr>\n    <tr>\n      <th>72</th>\n      <td>0.022621</td>\n      <td>0.001939</td>\n      <td>0.008801</td>\n      <td>0.000125</td>\n      <td>3</td>\n      <td>7.78554</td>\n      <td>{'polynomial_features__degree': 3, 'ridge_regr...</td>\n      <td>0.529466</td>\n      <td>0.735234</td>\n      <td>0.419660</td>\n      <td>0.561734</td>\n      <td>0.130780</td>\n      <td>78</td>\n      <td>0.970655</td>\n      <td>0.978899</td>\n      <td>0.972388</td>\n      <td>0.973981</td>\n      <td>0.003549</td>\n    </tr>\n    <tr>\n      <th>73</th>\n      <td>0.021202</td>\n      <td>0.000132</td>\n      <td>0.008622</td>\n      <td>0.000095</td>\n      <td>3</td>\n      <td>8.22984</td>\n      <td>{'polynomial_features__degree': 3, 'ridge_regr...</td>\n      <td>0.534811</td>\n      <td>0.742198</td>\n      <td>0.435131</td>\n      <td>0.570981</td>\n      <td>0.127889</td>\n      <td>77</td>\n      <td>0.970069</td>\n      <td>0.978466</td>\n      <td>0.971887</td>\n      <td>0.973474</td>\n      <td>0.003607</td>\n    </tr>\n    <tr>\n      <th>74</th>\n      <td>0.020939</td>\n      <td>0.000074</td>\n      <td>0.008663</td>\n      <td>0.000035</td>\n      <td>3</td>\n      <td>8.69949</td>\n      <td>{'polynomial_features__degree': 3, 'ridge_regr...</td>\n      <td>0.540109</td>\n      <td>0.748831</td>\n      <td>0.450155</td>\n      <td>0.579954</td>\n      <td>0.125097</td>\n      <td>76</td>\n      <td>0.969474</td>\n      <td>0.978025</td>\n      <td>0.971376</td>\n      <td>0.972958</td>\n      <td>0.003666</td>\n    </tr>\n    <tr>\n      <th>75</th>\n      <td>0.021338</td>\n      <td>0.000309</td>\n      <td>0.008691</td>\n      <td>0.000119</td>\n      <td>3</td>\n      <td>9.19594</td>\n      <td>{'polynomial_features__degree': 3, 'ridge_regr...</td>\n      <td>0.545361</td>\n      <td>0.755144</td>\n      <td>0.464741</td>\n      <td>0.588660</td>\n      <td>0.122400</td>\n      <td>75</td>\n      <td>0.968870</td>\n      <td>0.977576</td>\n      <td>0.970854</td>\n      <td>0.972434</td>\n      <td>0.003725</td>\n    </tr>\n    <tr>\n      <th>76</th>\n      <td>0.021102</td>\n      <td>0.000270</td>\n      <td>0.008800</td>\n      <td>0.000271</td>\n      <td>3</td>\n      <td>9.72072</td>\n      <td>{'polynomial_features__degree': 3, 'ridge_regr...</td>\n      <td>0.550568</td>\n      <td>0.761148</td>\n      <td>0.478899</td>\n      <td>0.597104</td>\n      <td>0.119792</td>\n      <td>74</td>\n      <td>0.968257</td>\n      <td>0.977119</td>\n      <td>0.970323</td>\n      <td>0.971900</td>\n      <td>0.003786</td>\n    </tr>\n    <tr>\n      <th>77</th>\n      <td>0.020766</td>\n      <td>0.000870</td>\n      <td>0.008658</td>\n      <td>0.000458</td>\n      <td>3</td>\n      <td>10.2755</td>\n      <td>{'polynomial_features__degree': 3, 'ridge_regr...</td>\n      <td>0.555728</td>\n      <td>0.766852</td>\n      <td>0.492638</td>\n      <td>0.605295</td>\n      <td>0.117268</td>\n      <td>73</td>\n      <td>0.967635</td>\n      <td>0.976654</td>\n      <td>0.969783</td>\n      <td>0.971357</td>\n      <td>0.003847</td>\n    </tr>\n    <tr>\n      <th>78</th>\n      <td>0.019286</td>\n      <td>0.000211</td>\n      <td>0.008466</td>\n      <td>0.000154</td>\n      <td>3</td>\n      <td>10.8618</td>\n      <td>{'polynomial_features__degree': 3, 'ridge_regr...</td>\n      <td>0.560842</td>\n      <td>0.772267</td>\n      <td>0.505970</td>\n      <td>0.613238</td>\n      <td>0.114821</td>\n      <td>72</td>\n      <td>0.967004</td>\n      <td>0.976182</td>\n      <td>0.969232</td>\n      <td>0.970806</td>\n      <td>0.003909</td>\n    </tr>\n    <tr>\n      <th>79</th>\n      <td>0.026452</td>\n      <td>0.003622</td>\n      <td>0.009195</td>\n      <td>0.000279</td>\n      <td>3</td>\n      <td>11.4817</td>\n      <td>{'polynomial_features__degree': 3, 'ridge_regr...</td>\n      <td>0.565909</td>\n      <td>0.777404</td>\n      <td>0.518904</td>\n      <td>0.620940</td>\n      <td>0.112449</td>\n      <td>71</td>\n      <td>0.966364</td>\n      <td>0.975701</td>\n      <td>0.968671</td>\n      <td>0.970246</td>\n      <td>0.003971</td>\n    </tr>\n    <tr>\n      <th>80</th>\n      <td>0.021899</td>\n      <td>0.001211</td>\n      <td>0.008698</td>\n      <td>0.000266</td>\n      <td>3</td>\n      <td>12.1369</td>\n      <td>{'polynomial_features__degree': 3, 'ridge_regr...</td>\n      <td>0.570925</td>\n      <td>0.782273</td>\n      <td>0.531450</td>\n      <td>0.628407</td>\n      <td>0.110145</td>\n      <td>70</td>\n      <td>0.965716</td>\n      <td>0.975213</td>\n      <td>0.968100</td>\n      <td>0.969676</td>\n      <td>0.004034</td>\n    </tr>\n    <tr>\n      <th>81</th>\n      <td>0.021542</td>\n      <td>0.000339</td>\n      <td>0.008793</td>\n      <td>0.000244</td>\n      <td>3</td>\n      <td>12.8295</td>\n      <td>{'polynomial_features__degree': 3, 'ridge_regr...</td>\n      <td>0.575891</td>\n      <td>0.786885</td>\n      <td>0.543618</td>\n      <td>0.635646</td>\n      <td>0.107907</td>\n      <td>69</td>\n      <td>0.965059</td>\n      <td>0.974717</td>\n      <td>0.967519</td>\n      <td>0.969098</td>\n      <td>0.004098</td>\n    </tr>\n    <tr>\n      <th>82</th>\n      <td>0.021657</td>\n      <td>0.000230</td>\n      <td>0.008949</td>\n      <td>0.000086</td>\n      <td>3</td>\n      <td>13.5617</td>\n      <td>{'polynomial_features__degree': 3, 'ridge_regr...</td>\n      <td>0.580802</td>\n      <td>0.791249</td>\n      <td>0.555420</td>\n      <td>0.642663</td>\n      <td>0.105731</td>\n      <td>68</td>\n      <td>0.964393</td>\n      <td>0.974213</td>\n      <td>0.966928</td>\n      <td>0.968511</td>\n      <td>0.004162</td>\n    </tr>\n    <tr>\n      <th>83</th>\n      <td>0.021905</td>\n      <td>0.000758</td>\n      <td>0.008883</td>\n      <td>0.000189</td>\n      <td>3</td>\n      <td>14.3356</td>\n      <td>{'polynomial_features__degree': 3, 'ridge_regr...</td>\n      <td>0.585658</td>\n      <td>0.795377</td>\n      <td>0.566865</td>\n      <td>0.649463</td>\n      <td>0.103614</td>\n      <td>67</td>\n      <td>0.963718</td>\n      <td>0.973700</td>\n      <td>0.966327</td>\n      <td>0.967915</td>\n      <td>0.004227</td>\n    </tr>\n    <tr>\n      <th>84</th>\n      <td>0.021386</td>\n      <td>0.000259</td>\n      <td>0.009050</td>\n      <td>0.000517</td>\n      <td>3</td>\n      <td>15.1537</td>\n      <td>{'polynomial_features__degree': 3, 'ridge_regr...</td>\n      <td>0.590454</td>\n      <td>0.799277</td>\n      <td>0.577963</td>\n      <td>0.656052</td>\n      <td>0.101553</td>\n      <td>66</td>\n      <td>0.963036</td>\n      <td>0.973180</td>\n      <td>0.965717</td>\n      <td>0.967311</td>\n      <td>0.004292</td>\n    </tr>\n    <tr>\n      <th>85</th>\n      <td>0.021089</td>\n      <td>0.000108</td>\n      <td>0.008622</td>\n      <td>0.000029</td>\n      <td>3</td>\n      <td>16.0184</td>\n      <td>{'polynomial_features__degree': 3, 'ridge_regr...</td>\n      <td>0.595188</td>\n      <td>0.802959</td>\n      <td>0.588724</td>\n      <td>0.662436</td>\n      <td>0.099548</td>\n      <td>65</td>\n      <td>0.962345</td>\n      <td>0.972652</td>\n      <td>0.965096</td>\n      <td>0.966698</td>\n      <td>0.004358</td>\n    </tr>\n    <tr>\n      <th>86</th>\n      <td>0.021909</td>\n      <td>0.000889</td>\n      <td>0.009245</td>\n      <td>0.000663</td>\n      <td>3</td>\n      <td>16.9326</td>\n      <td>{'polynomial_features__degree': 3, 'ridge_regr...</td>\n      <td>0.599857</td>\n      <td>0.806434</td>\n      <td>0.599156</td>\n      <td>0.668619</td>\n      <td>0.097594</td>\n      <td>64</td>\n      <td>0.961647</td>\n      <td>0.972117</td>\n      <td>0.964466</td>\n      <td>0.966077</td>\n      <td>0.004423</td>\n    </tr>\n    <tr>\n      <th>87</th>\n      <td>0.021734</td>\n      <td>0.000326</td>\n      <td>0.008887</td>\n      <td>0.000068</td>\n      <td>3</td>\n      <td>17.8989</td>\n      <td>{'polynomial_features__degree': 3, 'ridge_regr...</td>\n      <td>0.604457</td>\n      <td>0.809709</td>\n      <td>0.609271</td>\n      <td>0.674608</td>\n      <td>0.095693</td>\n      <td>63</td>\n      <td>0.960941</td>\n      <td>0.971573</td>\n      <td>0.963827</td>\n      <td>0.965447</td>\n      <td>0.004489</td>\n    </tr>\n    <tr>\n      <th>88</th>\n      <td>0.022268</td>\n      <td>0.000916</td>\n      <td>0.009336</td>\n      <td>0.000745</td>\n      <td>3</td>\n      <td>18.9203</td>\n      <td>{'polynomial_features__degree': 3, 'ridge_regr...</td>\n      <td>0.608986</td>\n      <td>0.812795</td>\n      <td>0.619075</td>\n      <td>0.680407</td>\n      <td>0.093842</td>\n      <td>62</td>\n      <td>0.960227</td>\n      <td>0.971021</td>\n      <td>0.963177</td>\n      <td>0.964809</td>\n      <td>0.004555</td>\n    </tr>\n    <tr>\n      <th>89</th>\n      <td>0.021807</td>\n      <td>0.001021</td>\n      <td>0.008908</td>\n      <td>0.000091</td>\n      <td>3</td>\n      <td>20</td>\n      <td>{'polynomial_features__degree': 3, 'ridge_regr...</td>\n      <td>0.613441</td>\n      <td>0.815700</td>\n      <td>0.628578</td>\n      <td>0.686020</td>\n      <td>0.092041</td>\n      <td>61</td>\n      <td>0.959506</td>\n      <td>0.970462</td>\n      <td>0.962519</td>\n      <td>0.964162</td>\n      <td>0.004621</td>\n    </tr>\n  </tbody>\n</table>\n<p>90 rows \u00d7 18 columns</p>\n</div>",
                        "text/plain": "    mean_fit_time  std_fit_time  mean_score_time  std_score_time  \\\n0        0.004738      0.000674         0.004324        0.003960   \n1        0.004312      0.000122         0.001523        0.000010   \n2        0.004194      0.000014         0.001516        0.000004   \n3        0.004199      0.000018         0.001569        0.000005   \n4        0.004204      0.000013         0.001580        0.000010   \n5        0.004211      0.000046         0.001526        0.000007   \n6        0.004189      0.000005         0.001525        0.000007   \n7        0.004220      0.000010         0.001526        0.000010   \n8        0.004239      0.000013         0.001562        0.000030   \n9        0.004358      0.000115         0.001578        0.000027   \n10       0.004259      0.000018         0.001536        0.000007   \n11       0.007119      0.003928         0.001588        0.000085   \n12       0.005207      0.000434         0.001854        0.000214   \n13       0.004516      0.000158         0.001600        0.000093   \n14       0.005064      0.000913         0.001545        0.000018   \n15       0.004299      0.000018         0.001571        0.000052   \n16       0.004216      0.000018         0.001589        0.000059   \n17       0.004230      0.000029         0.001522        0.000005   \n18       0.004297      0.000078         0.001521        0.000013   \n19       0.004201      0.000010         0.001564        0.000041   \n20       0.004248      0.000083         0.001667        0.000108   \n21       0.004488      0.000377         0.001601        0.000125   \n22       0.004185      0.000011         0.001562        0.000049   \n23       0.004231      0.000014         0.001524        0.000023   \n24       0.004183      0.000010         0.001515        0.000009   \n25       0.004175      0.000014         0.001584        0.000026   \n26       0.004168      0.000016         0.001584        0.000012   \n27       0.004211      0.000007         0.001540        0.000037   \n28       0.004292      0.000033         0.001565        0.000054   \n29       0.004288      0.000017         0.001613        0.000021   \n..            ...           ...              ...             ...   \n60       0.020037      0.000911         0.010517        0.001911   \n61       0.019005      0.000515         0.008061        0.000011   \n62       0.022073      0.004107         0.008206        0.000111   \n63       0.018684      0.000259         0.008166        0.000047   \n64       0.020220      0.001181         0.008266        0.000285   \n65       0.018943      0.000081         0.008037        0.000006   \n66       0.024548      0.008243         0.008494        0.000337   \n67       0.021373      0.000728         0.008550        0.000348   \n68       0.018997      0.000180         0.008299        0.000085   \n69       0.020786      0.002413         0.009046        0.001268   \n70       0.023526      0.002011         0.009093        0.000357   \n71       0.020208      0.000556         0.008618        0.000454   \n72       0.022621      0.001939         0.008801        0.000125   \n73       0.021202      0.000132         0.008622        0.000095   \n74       0.020939      0.000074         0.008663        0.000035   \n75       0.021338      0.000309         0.008691        0.000119   \n76       0.021102      0.000270         0.008800        0.000271   \n77       0.020766      0.000870         0.008658        0.000458   \n78       0.019286      0.000211         0.008466        0.000154   \n79       0.026452      0.003622         0.009195        0.000279   \n80       0.021899      0.001211         0.008698        0.000266   \n81       0.021542      0.000339         0.008793        0.000244   \n82       0.021657      0.000230         0.008949        0.000086   \n83       0.021905      0.000758         0.008883        0.000189   \n84       0.021386      0.000259         0.009050        0.000517   \n85       0.021089      0.000108         0.008622        0.000029   \n86       0.021909      0.000889         0.009245        0.000663   \n87       0.021734      0.000326         0.008887        0.000068   \n88       0.022268      0.000916         0.009336        0.000745   \n89       0.021807      0.001021         0.008908        0.000091   \n\n   param_polynomial_features__degree param_ridge_regression__alpha  \\\n0                                  1                             4   \n1                                  1                       4.22827   \n2                                  1                       4.46956   \n3                                  1                       4.72462   \n4                                  1                       4.99424   \n5                                  1                       5.27925   \n6                                  1                       5.58052   \n7                                  1                       5.89898   \n8                                  1                       6.23562   \n9                                  1                       6.59146   \n10                                 1                       6.96761   \n11                                 1                       7.36523   \n12                                 1                       7.78554   \n13                                 1                       8.22984   \n14                                 1                       8.69949   \n15                                 1                       9.19594   \n16                                 1                       9.72072   \n17                                 1                       10.2755   \n18                                 1                       10.8618   \n19                                 1                       11.4817   \n20                                 1                       12.1369   \n21                                 1                       12.8295   \n22                                 1                       13.5617   \n23                                 1                       14.3356   \n24                                 1                       15.1537   \n25                                 1                       16.0184   \n26                                 1                       16.9326   \n27                                 1                       17.8989   \n28                                 1                       18.9203   \n29                                 1                            20   \n..                               ...                           ...   \n60                                 3                             4   \n61                                 3                       4.22827   \n62                                 3                       4.46956   \n63                                 3                       4.72462   \n64                                 3                       4.99424   \n65                                 3                       5.27925   \n66                                 3                       5.58052   \n67                                 3                       5.89898   \n68                                 3                       6.23562   \n69                                 3                       6.59146   \n70                                 3                       6.96761   \n71                                 3                       7.36523   \n72                                 3                       7.78554   \n73                                 3                       8.22984   \n74                                 3                       8.69949   \n75                                 3                       9.19594   \n76                                 3                       9.72072   \n77                                 3                       10.2755   \n78                                 3                       10.8618   \n79                                 3                       11.4817   \n80                                 3                       12.1369   \n81                                 3                       12.8295   \n82                                 3                       13.5617   \n83                                 3                       14.3356   \n84                                 3                       15.1537   \n85                                 3                       16.0184   \n86                                 3                       16.9326   \n87                                 3                       17.8989   \n88                                 3                       18.9203   \n89                                 3                            20   \n\n                                               params  split0_test_score  \\\n0   {'polynomial_features__degree': 1, 'ridge_regr...           0.672111   \n1   {'polynomial_features__degree': 1, 'ridge_regr...           0.672103   \n2   {'polynomial_features__degree': 1, 'ridge_regr...           0.672093   \n3   {'polynomial_features__degree': 1, 'ridge_regr...           0.672081   \n4   {'polynomial_features__degree': 1, 'ridge_regr...           0.672067   \n5   {'polynomial_features__degree': 1, 'ridge_regr...           0.672050   \n6   {'polynomial_features__degree': 1, 'ridge_regr...           0.672030   \n7   {'polynomial_features__degree': 1, 'ridge_regr...           0.672007   \n8   {'polynomial_features__degree': 1, 'ridge_regr...           0.671980   \n9   {'polynomial_features__degree': 1, 'ridge_regr...           0.671950   \n10  {'polynomial_features__degree': 1, 'ridge_regr...           0.671915   \n11  {'polynomial_features__degree': 1, 'ridge_regr...           0.671877   \n12  {'polynomial_features__degree': 1, 'ridge_regr...           0.671833   \n13  {'polynomial_features__degree': 1, 'ridge_regr...           0.671785   \n14  {'polynomial_features__degree': 1, 'ridge_regr...           0.671731   \n15  {'polynomial_features__degree': 1, 'ridge_regr...           0.671671   \n16  {'polynomial_features__degree': 1, 'ridge_regr...           0.671606   \n17  {'polynomial_features__degree': 1, 'ridge_regr...           0.671533   \n18  {'polynomial_features__degree': 1, 'ridge_regr...           0.671453   \n19  {'polynomial_features__degree': 1, 'ridge_regr...           0.671366   \n20  {'polynomial_features__degree': 1, 'ridge_regr...           0.671271   \n21  {'polynomial_features__degree': 1, 'ridge_regr...           0.671168   \n22  {'polynomial_features__degree': 1, 'ridge_regr...           0.671056   \n23  {'polynomial_features__degree': 1, 'ridge_regr...           0.670934   \n24  {'polynomial_features__degree': 1, 'ridge_regr...           0.670802   \n25  {'polynomial_features__degree': 1, 'ridge_regr...           0.670660   \n26  {'polynomial_features__degree': 1, 'ridge_regr...           0.670506   \n27  {'polynomial_features__degree': 1, 'ridge_regr...           0.670341   \n28  {'polynomial_features__degree': 1, 'ridge_regr...           0.670164   \n29  {'polynomial_features__degree': 1, 'ridge_regr...           0.669974   \n..                                                ...                ...   \n60  {'polynomial_features__degree': 3, 'ridge_regr...           0.460323   \n61  {'polynomial_features__degree': 3, 'ridge_regr...           0.466577   \n62  {'polynomial_features__degree': 3, 'ridge_regr...           0.472713   \n63  {'polynomial_features__degree': 3, 'ridge_regr...           0.478741   \n64  {'polynomial_features__degree': 3, 'ridge_regr...           0.484671   \n65  {'polynomial_features__degree': 3, 'ridge_regr...           0.490512   \n66  {'polynomial_features__degree': 3, 'ridge_regr...           0.496272   \n67  {'polynomial_features__degree': 3, 'ridge_regr...           0.501957   \n68  {'polynomial_features__degree': 3, 'ridge_regr...           0.507575   \n69  {'polynomial_features__degree': 3, 'ridge_regr...           0.513131   \n70  {'polynomial_features__degree': 3, 'ridge_regr...           0.518629   \n71  {'polynomial_features__degree': 3, 'ridge_regr...           0.524073   \n72  {'polynomial_features__degree': 3, 'ridge_regr...           0.529466   \n73  {'polynomial_features__degree': 3, 'ridge_regr...           0.534811   \n74  {'polynomial_features__degree': 3, 'ridge_regr...           0.540109   \n75  {'polynomial_features__degree': 3, 'ridge_regr...           0.545361   \n76  {'polynomial_features__degree': 3, 'ridge_regr...           0.550568   \n77  {'polynomial_features__degree': 3, 'ridge_regr...           0.555728   \n78  {'polynomial_features__degree': 3, 'ridge_regr...           0.560842   \n79  {'polynomial_features__degree': 3, 'ridge_regr...           0.565909   \n80  {'polynomial_features__degree': 3, 'ridge_regr...           0.570925   \n81  {'polynomial_features__degree': 3, 'ridge_regr...           0.575891   \n82  {'polynomial_features__degree': 3, 'ridge_regr...           0.580802   \n83  {'polynomial_features__degree': 3, 'ridge_regr...           0.585658   \n84  {'polynomial_features__degree': 3, 'ridge_regr...           0.590454   \n85  {'polynomial_features__degree': 3, 'ridge_regr...           0.595188   \n86  {'polynomial_features__degree': 3, 'ridge_regr...           0.599857   \n87  {'polynomial_features__degree': 3, 'ridge_regr...           0.604457   \n88  {'polynomial_features__degree': 3, 'ridge_regr...           0.608986   \n89  {'polynomial_features__degree': 3, 'ridge_regr...           0.613441   \n\n    split1_test_score  split2_test_score  mean_test_score  std_test_score  \\\n0            0.748235           0.701801         0.707393        0.031357   \n1            0.748207           0.701986         0.707443        0.031337   \n2            0.748175           0.702178         0.707493        0.031316   \n3            0.748141           0.702375         0.707543        0.031295   \n4            0.748104           0.702579         0.707593        0.031273   \n5            0.748063           0.702788         0.707643        0.031251   \n6            0.748018           0.703003         0.707693        0.031228   \n7            0.747969           0.703223         0.707742        0.031205   \n8            0.747915           0.703449         0.707790        0.031181   \n9            0.747856           0.703679         0.707836        0.031157   \n10           0.747791           0.703915         0.707882        0.031133   \n11           0.747721           0.704155         0.707925        0.031108   \n12           0.747645           0.704400         0.707966        0.031082   \n13           0.747561           0.704648         0.708005        0.031056   \n14           0.747471           0.704900         0.708040        0.031030   \n15           0.747372           0.705155         0.708072        0.031003   \n16           0.747265           0.705413         0.708100        0.030976   \n17           0.747149           0.705672         0.708123        0.030949   \n18           0.747022           0.705933         0.708141        0.030921   \n19           0.746886           0.706195         0.708153        0.030892   \n20           0.746738           0.706456         0.708159        0.030863   \n21           0.746578           0.706717         0.708157        0.030833   \n22           0.746405           0.706975         0.708148        0.030803   \n23           0.746219           0.707232         0.708130        0.030772   \n24           0.746018           0.707484         0.708103        0.030740   \n25           0.745801           0.707732         0.708065        0.030708   \n26           0.745568           0.707974         0.708016        0.030674   \n27           0.745317           0.708208         0.707955        0.030639   \n28           0.745048           0.708435         0.707881        0.030604   \n29           0.744758           0.708651         0.707793        0.030566   \n..                ...                ...              ...             ...   \n60           0.622404           0.196931         0.427007        0.175208   \n61           0.634059           0.218160         0.440037        0.170743   \n62           0.645280           0.238909         0.452722        0.166421   \n63           0.656072           0.259172         0.465068        0.162242   \n64           0.666443           0.278946         0.477078        0.158208   \n65           0.676400           0.298230         0.488757        0.154315   \n66           0.685952           0.317024         0.500110        0.150564   \n67           0.695107           0.335328         0.511144        0.146950   \n68           0.703872           0.353147         0.521864        0.143469   \n69           0.712259           0.370484         0.532277        0.140117   \n70           0.720275           0.387344         0.542388        0.136889   \n71           0.727930           0.403733         0.552205        0.133778   \n72           0.735234           0.419660         0.561734        0.130780   \n73           0.742198           0.435131         0.570981        0.127889   \n74           0.748831           0.450155         0.579954        0.125097   \n75           0.755144           0.464741         0.588660        0.122400   \n76           0.761148           0.478899         0.597104        0.119792   \n77           0.766852           0.492638         0.605295        0.117268   \n78           0.772267           0.505970         0.613238        0.114821   \n79           0.777404           0.518904         0.620940        0.112449   \n80           0.782273           0.531450         0.628407        0.110145   \n81           0.786885           0.543618         0.635646        0.107907   \n82           0.791249           0.555420         0.642663        0.105731   \n83           0.795377           0.566865         0.649463        0.103614   \n84           0.799277           0.577963         0.656052        0.101553   \n85           0.802959           0.588724         0.662436        0.099548   \n86           0.806434           0.599156         0.668619        0.097594   \n87           0.809709           0.609271         0.674608        0.095693   \n88           0.812795           0.619075         0.680407        0.093842   \n89           0.815700           0.628578         0.686020        0.092041   \n\n    rank_test_score  split0_train_score  split1_train_score  \\\n0                60            0.765659            0.732051   \n1                59            0.765622            0.732017   \n2                58            0.765582            0.731979   \n3                57            0.765538            0.731938   \n4                56            0.765489            0.731894   \n5                55            0.765437            0.731844   \n6                54            0.765379            0.731791   \n7                53            0.765316            0.731732   \n8                52            0.765248            0.731668   \n9                50            0.765174            0.731598   \n10               48            0.765093            0.731521   \n11               47            0.765005            0.731438   \n12               45            0.764910            0.731348   \n13               44            0.764807            0.731249   \n14               42            0.764695            0.731142   \n15               40            0.764574            0.731026   \n16               39            0.764444            0.730900   \n17               37            0.764303            0.730764   \n18               35            0.764151            0.730616   \n19               33            0.763987            0.730457   \n20               31            0.763811            0.730284   \n21               32            0.763622            0.730099   \n22               34            0.763418            0.729898   \n23               36            0.763200            0.729683   \n24               38            0.762965            0.729451   \n25               41            0.762714            0.729202   \n26               43            0.762446            0.728934   \n27               46            0.762158            0.728647   \n28               49            0.761851            0.728339   \n29               51            0.761523            0.728010   \n..              ...                 ...                 ...   \n60               90            0.976990            0.983499   \n61               89            0.976510            0.983157   \n62               88            0.976021            0.982807   \n63               87            0.975524            0.982451   \n64               86            0.975019            0.982086   \n65               85            0.974504            0.981714   \n66               84            0.973981            0.981335   \n67               83            0.973449            0.980948   \n68               82            0.972908            0.980554   \n69               81            0.972358            0.980152   \n70               80            0.971800            0.979742   \n71               79            0.971232            0.979324   \n72               78            0.970655            0.978899   \n73               77            0.970069            0.978466   \n74               76            0.969474            0.978025   \n75               75            0.968870            0.977576   \n76               74            0.968257            0.977119   \n77               73            0.967635            0.976654   \n78               72            0.967004            0.976182   \n79               71            0.966364            0.975701   \n80               70            0.965716            0.975213   \n81               69            0.965059            0.974717   \n82               68            0.964393            0.974213   \n83               67            0.963718            0.973700   \n84               66            0.963036            0.973180   \n85               65            0.962345            0.972652   \n86               64            0.961647            0.972117   \n87               63            0.960941            0.971573   \n88               62            0.960227            0.971021   \n89               61            0.959506            0.970462   \n\n    split2_train_score  mean_train_score  std_train_score  \n0             0.743390          0.747033         0.013960  \n1             0.743345          0.746994         0.013960  \n2             0.743295          0.746952         0.013960  \n3             0.743240          0.746905         0.013960  \n4             0.743180          0.746854         0.013959  \n5             0.743115          0.746799         0.013959  \n6             0.743043          0.746738         0.013959  \n7             0.742966          0.746671         0.013959  \n8             0.742881          0.746599         0.013959  \n9             0.742789          0.746520         0.013959  \n10            0.742689          0.746434         0.013959  \n11            0.742580          0.746341         0.013959  \n12            0.742462          0.746240         0.013960  \n13            0.742335          0.746130         0.013960  \n14            0.742196          0.746011         0.013961  \n15            0.742047          0.745883         0.013962  \n16            0.741886          0.745743         0.013963  \n17            0.741712          0.745593         0.013965  \n18            0.741524          0.745431         0.013966  \n19            0.741322          0.745255         0.013968  \n20            0.741105          0.745067         0.013971  \n21            0.740872          0.744864         0.013974  \n22            0.740622          0.744646         0.013977  \n23            0.740354          0.744412         0.013981  \n24            0.740066          0.744161         0.013985  \n25            0.739759          0.743892         0.013990  \n26            0.739430          0.743603         0.013996  \n27            0.739080          0.743295         0.014002  \n28            0.738705          0.742965         0.014009  \n29            0.738306          0.742613         0.014017  \n..                 ...               ...              ...  \n60            0.977697          0.979396         0.002916  \n61            0.977301          0.978989         0.002965  \n62            0.976897          0.978575         0.003014  \n63            0.976485          0.978153         0.003064  \n64            0.976065          0.977723         0.003115  \n65            0.975637          0.977285         0.003166  \n66            0.975200          0.976839         0.003218  \n67            0.974754          0.976384         0.003271  \n68            0.974299          0.975920         0.003325  \n69            0.973836          0.975449         0.003380  \n70            0.973363          0.974968         0.003435  \n71            0.972880          0.974479         0.003492  \n72            0.972388          0.973981         0.003549  \n73            0.971887          0.973474         0.003607  \n74            0.971376          0.972958         0.003666  \n75            0.970854          0.972434         0.003725  \n76            0.970323          0.971900         0.003786  \n77            0.969783          0.971357         0.003847  \n78            0.969232          0.970806         0.003909  \n79            0.968671          0.970246         0.003971  \n80            0.968100          0.969676         0.004034  \n81            0.967519          0.969098         0.004098  \n82            0.966928          0.968511         0.004162  \n83            0.966327          0.967915         0.004227  \n84            0.965717          0.967311         0.004292  \n85            0.965096          0.966698         0.004358  \n86            0.964466          0.966077         0.004423  \n87            0.963827          0.965447         0.004489  \n88            0.963177          0.964809         0.004555  \n89            0.962519          0.964162         0.004621  \n\n[90 rows x 18 columns]"
                    },
                    "execution_count": 43,
                    "metadata": {},
                    "output_type": "execute_result"
                }
            ],
            "source": "pd.DataFrame(grid.cv_results_)"
        },
        {
            "cell_type": "markdown",
            "metadata": {},
            "source": "## Summary\n\n1. We can manually generate folds by using `KFolds`\n2. We can get a score using `cross_val_predict(X, y, cv=KFoldObject_or_integer)`. \n   This will produce the out-of-bag prediction for each row.\n3. When doing hyperparameter selection, we should be optimizing on out-of-bag scores. This means either using `cross_val_predict` in a loop, or ....\n4. .... use `GridSearchCV`. GridSearchCV takes a model (or pipeline) and a dictionary of parameters to scan over. It finds the hyperparameter set that has the best out-of-sample score on all the parameters, and calls that it's \"best estimator\". It then retrains on all data with the \"best\" hyper-parameters.\n\n### Extensions\n\nHere are some additional items to keep in mind:\n* There is a `RandomSearchCV` that tries random combination of model parameters. This can be helpful if you have a prohibitive number of combinations to test them all exhaustively.\n* KFolds will randomly select rows to be in the training and test folds. There are other methods (such as `StratifiedKFolds` and `GroupKFold`, which are useful when you need more control over how the data is split (e.g. to prevent data leakage). You can create these specialized objects and pass them to the `cv` argument of `GridSearchCV`."
        },
        {
            "cell_type": "markdown",
            "metadata": {},
            "source": "---\n### Machine Learning Foundation (C) 2020 IBM Corporation"
        }
    ],
    "metadata": {
        "kernelspec": {
            "display_name": "Python 3.6",
            "language": "python",
            "name": "python3"
        },
        "language_info": {
            "codemirror_mode": {
                "name": "ipython",
                "version": 3
            },
            "file_extension": ".py",
            "mimetype": "text/x-python",
            "name": "python",
            "nbconvert_exporter": "python",
            "pygments_lexer": "ipython3",
            "version": "3.6.9"
        },
        "varInspector": {
            "cols": {
                "lenName": 16,
                "lenType": 16,
                "lenVar": 40
            },
            "kernels_config": {
                "python": {
                    "delete_cmd_postfix": "",
                    "delete_cmd_prefix": "del ",
                    "library": "var_list.py",
                    "varRefreshCmd": "print(var_dic_list())"
                },
                "r": {
                    "delete_cmd_postfix": ") ",
                    "delete_cmd_prefix": "rm(",
                    "library": "var_list.r",
                    "varRefreshCmd": "cat(var_dic_list()) "
                }
            },
            "types_to_exclude": [
                "module",
                "function",
                "builtin_function_or_method",
                "instance",
                "_Feature"
            ],
            "window_display": false
        }
    },
    "nbformat": 4,
    "nbformat_minor": 4
}

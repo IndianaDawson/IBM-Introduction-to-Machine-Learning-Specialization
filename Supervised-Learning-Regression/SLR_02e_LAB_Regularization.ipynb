{
    "cells": [
        {
            "cell_type": "markdown",
            "metadata": {},
            "source": "# Machine Learning Foundation\n\n## Section 2, Part e: Regularization LAB "
        },
        {
            "cell_type": "markdown",
            "metadata": {},
            "source": "## Learning objectives\n\nBy the end of this lesson, you will be able to:\n\n* Implement data standardization\n* Implement variants of regularized regression\n* Combine data standardization with the train-test split procedure\n* Implement regularization to prevent overfitting in regression problems"
        },
        {
            "cell_type": "code",
            "execution_count": 1,
            "metadata": {},
            "outputs": [],
            "source": "import numpy as np\nimport pandas as pd\nfrom sklearn.datasets import load_boston\nfrom sklearn.preprocessing import StandardScaler\nfrom sklearn.preprocessing import PolynomialFeatures\nfrom sklearn.linear_model import Ridge\nfrom sklearn.linear_model import Lasso\nfrom sklearn.linear_model import LinearRegression\nfrom sklearn.metrics import r2_score\nfrom sklearn.model_selection import train_test_split\n\nnp.set_printoptions(precision=3, suppress=True)"
        },
        {
            "cell_type": "markdown",
            "metadata": {},
            "source": "### Loading in Boston Data"
        },
        {
            "cell_type": "markdown",
            "metadata": {},
            "source": "**Note:** See `helper.py` file to see how boston data is read in from SciKit Learn."
        },
        {
            "cell_type": "code",
            "execution_count": 2,
            "metadata": {},
            "outputs": [
                {
                    "data": {
                        "text/html": "<div>\n<style scoped>\n    .dataframe tbody tr th:only-of-type {\n        vertical-align: middle;\n    }\n\n    .dataframe tbody tr th {\n        vertical-align: top;\n    }\n\n    .dataframe thead th {\n        text-align: right;\n    }\n</style>\n<table border=\"1\" class=\"dataframe\">\n  <thead>\n    <tr style=\"text-align: right;\">\n      <th></th>\n      <th>CRIM</th>\n      <th>ZN</th>\n      <th>INDUS</th>\n      <th>CHAS</th>\n      <th>NOX</th>\n      <th>RM</th>\n      <th>AGE</th>\n      <th>DIS</th>\n      <th>RAD</th>\n      <th>TAX</th>\n      <th>PTRATIO</th>\n      <th>B</th>\n      <th>LSTAT</th>\n      <th>MEDV</th>\n    </tr>\n  </thead>\n  <tbody>\n    <tr>\n      <th>0</th>\n      <td>0.00632</td>\n      <td>18.0</td>\n      <td>2.31</td>\n      <td>0.0</td>\n      <td>0.538</td>\n      <td>6.575</td>\n      <td>65.2</td>\n      <td>4.0900</td>\n      <td>1.0</td>\n      <td>296.0</td>\n      <td>15.3</td>\n      <td>396.90</td>\n      <td>4.98</td>\n      <td>24.0</td>\n    </tr>\n    <tr>\n      <th>1</th>\n      <td>0.02731</td>\n      <td>0.0</td>\n      <td>7.07</td>\n      <td>0.0</td>\n      <td>0.469</td>\n      <td>6.421</td>\n      <td>78.9</td>\n      <td>4.9671</td>\n      <td>2.0</td>\n      <td>242.0</td>\n      <td>17.8</td>\n      <td>396.90</td>\n      <td>9.14</td>\n      <td>21.6</td>\n    </tr>\n    <tr>\n      <th>2</th>\n      <td>0.02729</td>\n      <td>0.0</td>\n      <td>7.07</td>\n      <td>0.0</td>\n      <td>0.469</td>\n      <td>7.185</td>\n      <td>61.1</td>\n      <td>4.9671</td>\n      <td>2.0</td>\n      <td>242.0</td>\n      <td>17.8</td>\n      <td>392.83</td>\n      <td>4.03</td>\n      <td>34.7</td>\n    </tr>\n    <tr>\n      <th>3</th>\n      <td>0.03237</td>\n      <td>0.0</td>\n      <td>2.18</td>\n      <td>0.0</td>\n      <td>0.458</td>\n      <td>6.998</td>\n      <td>45.8</td>\n      <td>6.0622</td>\n      <td>3.0</td>\n      <td>222.0</td>\n      <td>18.7</td>\n      <td>394.63</td>\n      <td>2.94</td>\n      <td>33.4</td>\n    </tr>\n    <tr>\n      <th>4</th>\n      <td>0.06905</td>\n      <td>0.0</td>\n      <td>2.18</td>\n      <td>0.0</td>\n      <td>0.458</td>\n      <td>7.147</td>\n      <td>54.2</td>\n      <td>6.0622</td>\n      <td>3.0</td>\n      <td>222.0</td>\n      <td>18.7</td>\n      <td>396.90</td>\n      <td>5.33</td>\n      <td>36.2</td>\n    </tr>\n  </tbody>\n</table>\n</div>",
                        "text/plain": "      CRIM    ZN  INDUS  CHAS    NOX     RM   AGE     DIS  RAD    TAX  \\\n0  0.00632  18.0   2.31   0.0  0.538  6.575  65.2  4.0900  1.0  296.0   \n1  0.02731   0.0   7.07   0.0  0.469  6.421  78.9  4.9671  2.0  242.0   \n2  0.02729   0.0   7.07   0.0  0.469  7.185  61.1  4.9671  2.0  242.0   \n3  0.03237   0.0   2.18   0.0  0.458  6.998  45.8  6.0622  3.0  222.0   \n4  0.06905   0.0   2.18   0.0  0.458  7.147  54.2  6.0622  3.0  222.0   \n\n   PTRATIO       B  LSTAT  MEDV  \n0     15.3  396.90   4.98  24.0  \n1     17.8  396.90   9.14  21.6  \n2     17.8  392.83   4.03  34.7  \n3     18.7  394.63   2.94  33.4  \n4     18.7  396.90   5.33  36.2  "
                    },
                    "execution_count": 2,
                    "metadata": {},
                    "output_type": "execute_result"
                }
            ],
            "source": "boston =  load_boston()\nboston_data = pd.DataFrame(boston.data, columns=boston.feature_names)\nboston_data['MEDV'] = boston.target\nboston_data.head()"
        },
        {
            "cell_type": "markdown",
            "metadata": {},
            "source": "## Data standardization"
        },
        {
            "cell_type": "markdown",
            "metadata": {},
            "source": "**Standardizing** data refers to transforming each variable so that it more closely follows a **standard** normal distribution, with mean 0 and standard deviation 1.\n\nThe [`StandardScaler`](http://scikit-learn.org/dev/modules/generated/sklearn.preprocessing.StandardScaler.html#sklearn.preprocessing.StandardScaler) object in SciKit Learn can do this."
        },
        {
            "cell_type": "markdown",
            "metadata": {},
            "source": "**Generate X and y**:"
        },
        {
            "cell_type": "code",
            "execution_count": 3,
            "metadata": {},
            "outputs": [],
            "source": "y_col = \"MEDV\"\n\nX = boston_data.drop(y_col, axis=1)\ny = boston_data[y_col]"
        },
        {
            "cell_type": "markdown",
            "metadata": {},
            "source": "**Import, fit, and transform using `StandardScaler`**"
        },
        {
            "cell_type": "code",
            "execution_count": 4,
            "metadata": {},
            "outputs": [],
            "source": "#from sklearn.preprocessing import StandardScaler\n\ns = StandardScaler()\nX_ss = s.fit_transform(X)"
        },
        {
            "cell_type": "markdown",
            "metadata": {},
            "source": "### Exercise: \n\nConfirm standard scaling"
        },
        {
            "cell_type": "markdown",
            "metadata": {},
            "source": "Hint:"
        },
        {
            "cell_type": "code",
            "execution_count": 5,
            "metadata": {},
            "outputs": [
                {
                    "name": "stdout",
                    "output_type": "stream",
                    "text": "[[1 2 3]\n [4 5 6]]\n"
                }
            ],
            "source": "a = np.array([[1, 2, 3], \n              [4, 5, 6]]) \nprint(a) # 2 rows, 3 columns"
        },
        {
            "cell_type": "code",
            "execution_count": 6,
            "metadata": {},
            "outputs": [
                {
                    "data": {
                        "text/plain": "array([2.5, 3.5, 4.5])"
                    },
                    "execution_count": 6,
                    "metadata": {},
                    "output_type": "execute_result"
                }
            ],
            "source": "a.mean(axis=0) # mean along the *columns*"
        },
        {
            "cell_type": "code",
            "execution_count": 7,
            "metadata": {},
            "outputs": [
                {
                    "data": {
                        "text/plain": "array([2., 5.])"
                    },
                    "execution_count": 7,
                    "metadata": {},
                    "output_type": "execute_result"
                }
            ],
            "source": "a.mean(axis=1) # mean along the *rows*"
        },
        {
            "cell_type": "code",
            "execution_count": 8,
            "metadata": {},
            "outputs": [
                {
                    "data": {
                        "text/plain": "True"
                    },
                    "execution_count": 8,
                    "metadata": {},
                    "output_type": "execute_result"
                }
            ],
            "source": "### BEGIN SOLUTION\nX2 = np.array(X)\nman_transform = (X2-X2.mean(axis=0))/X2.std(axis=0)\nnp.allclose(man_transform, X_ss)\n### END SOLUTION"
        },
        {
            "cell_type": "markdown",
            "metadata": {},
            "source": "### Coefficients with and without scaling"
        },
        {
            "cell_type": "code",
            "execution_count": 9,
            "metadata": {},
            "outputs": [],
            "source": "#from sklearn.linear_model import LinearRegression"
        },
        {
            "cell_type": "code",
            "execution_count": 10,
            "metadata": {},
            "outputs": [],
            "source": "lr = LinearRegression()\n\ny_col = \"MEDV\"\n\nX = boston_data.drop(y_col, axis=1)\ny = boston_data[y_col]"
        },
        {
            "cell_type": "code",
            "execution_count": 11,
            "metadata": {},
            "outputs": [
                {
                    "name": "stdout",
                    "output_type": "stream",
                    "text": "[ -0.108   0.046   0.021   2.687 -17.767   3.81    0.001  -1.476   0.306\n  -0.012  -0.953   0.009  -0.525]\n"
                }
            ],
            "source": "lr.fit(X, y)\nprint(lr.coef_) # min = -18"
        },
        {
            "cell_type": "markdown",
            "metadata": {},
            "source": "#### Discussion (together): \n\nThe coefficients are on widely different scales. Is this \"bad\"?"
        },
        {
            "cell_type": "code",
            "execution_count": 12,
            "metadata": {},
            "outputs": [],
            "source": "#from sklearn.preprocessing import StandardScaler"
        },
        {
            "cell_type": "code",
            "execution_count": 13,
            "metadata": {},
            "outputs": [],
            "source": "s = StandardScaler()\nX_ss = s.fit_transform(X)"
        },
        {
            "cell_type": "code",
            "execution_count": 14,
            "metadata": {},
            "outputs": [
                {
                    "name": "stdout",
                    "output_type": "stream",
                    "text": "[-0.928  1.082  0.141  0.682 -2.057  2.674  0.019 -3.104  2.662 -2.077\n -2.061  0.849 -3.744]\n"
                }
            ],
            "source": "lr2 = LinearRegression()\nlr2.fit(X_ss, y)\nprint(lr2.coef_) # coefficients now \"on the same scale\""
        },
        {
            "cell_type": "markdown",
            "metadata": {},
            "source": "### Exercise: \n\nBased on these results, what is the most \"impactful\" feature (this is intended to be slightly ambiguous)? \"In what direction\" does it affect \"y\"?\n\n**Hint:** Recall from last week that we can \"zip up\" the names of the features of a DataFrame `df` with a model `model` fitted on that DataFrame using:\n\n```python\ndict(zip(df.columns.values, model.coef_))\n```"
        },
        {
            "cell_type": "code",
            "execution_count": 15,
            "metadata": {},
            "outputs": [
                {
                    "data": {
                        "text/html": "<div>\n<style scoped>\n    .dataframe tbody tr th:only-of-type {\n        vertical-align: middle;\n    }\n\n    .dataframe tbody tr th {\n        vertical-align: top;\n    }\n\n    .dataframe thead th {\n        text-align: right;\n    }\n</style>\n<table border=\"1\" class=\"dataframe\">\n  <thead>\n    <tr style=\"text-align: right;\">\n      <th></th>\n      <th>0</th>\n      <th>1</th>\n    </tr>\n  </thead>\n  <tbody>\n    <tr>\n      <th>12</th>\n      <td>LSTAT</td>\n      <td>-3.743627</td>\n    </tr>\n    <tr>\n      <th>7</th>\n      <td>DIS</td>\n      <td>-3.104044</td>\n    </tr>\n    <tr>\n      <th>9</th>\n      <td>TAX</td>\n      <td>-2.076782</td>\n    </tr>\n    <tr>\n      <th>10</th>\n      <td>PTRATIO</td>\n      <td>-2.060607</td>\n    </tr>\n    <tr>\n      <th>4</th>\n      <td>NOX</td>\n      <td>-2.056718</td>\n    </tr>\n    <tr>\n      <th>0</th>\n      <td>CRIM</td>\n      <td>-0.928146</td>\n    </tr>\n    <tr>\n      <th>6</th>\n      <td>AGE</td>\n      <td>0.019466</td>\n    </tr>\n    <tr>\n      <th>2</th>\n      <td>INDUS</td>\n      <td>0.140900</td>\n    </tr>\n    <tr>\n      <th>3</th>\n      <td>CHAS</td>\n      <td>0.681740</td>\n    </tr>\n    <tr>\n      <th>11</th>\n      <td>B</td>\n      <td>0.849268</td>\n    </tr>\n    <tr>\n      <th>1</th>\n      <td>ZN</td>\n      <td>1.081569</td>\n    </tr>\n    <tr>\n      <th>8</th>\n      <td>RAD</td>\n      <td>2.662218</td>\n    </tr>\n    <tr>\n      <th>5</th>\n      <td>RM</td>\n      <td>2.674230</td>\n    </tr>\n  </tbody>\n</table>\n</div>",
                        "text/plain": "          0         1\n12    LSTAT -3.743627\n7       DIS -3.104044\n9       TAX -2.076782\n10  PTRATIO -2.060607\n4       NOX -2.056718\n0      CRIM -0.928146\n6       AGE  0.019466\n2     INDUS  0.140900\n3      CHAS  0.681740\n11        B  0.849268\n1        ZN  1.081569\n8       RAD  2.662218\n5        RM  2.674230"
                    },
                    "execution_count": 15,
                    "metadata": {},
                    "output_type": "execute_result"
                }
            ],
            "source": "### BEGIN SOLUTION\npd.DataFrame(zip(X.columns, lr2.coef_)).sort_values(by=1)\n### END SOLUTION"
        },
        {
            "cell_type": "markdown",
            "metadata": {},
            "source": "Looking just at the strength of the standardized coefficients LSTAT, DIS, RM and RAD are all the 'most impactful'. Sklearn does not have built in statistical signifigance of each of these variables which would aid in making this claim stronger/weaker"
        },
        {
            "cell_type": "markdown",
            "metadata": {},
            "source": "### Lasso with and without scaling"
        },
        {
            "cell_type": "markdown",
            "metadata": {},
            "source": "We discussed Lasso in lecture. \n\nLet's review together:\n\n1. What is different about Lasso vs. regular Linear Regression?\n1. Is standardization more or less important with Lasso vs. Linear Regression? Why?"
        },
        {
            "cell_type": "code",
            "execution_count": 16,
            "metadata": {},
            "outputs": [],
            "source": "# from sklearn.linear_model import Lasso\n# from sklearn.preprocessing import PolynomialFeatures"
        },
        {
            "cell_type": "markdown",
            "metadata": {},
            "source": "#### Create polynomial features"
        },
        {
            "cell_type": "markdown",
            "metadata": {},
            "source": "[`PolynomialFeatures`](http://scikit-learn.org/stable/modules/generated/sklearn.preprocessing.PolynomialFeatures.html)"
        },
        {
            "cell_type": "code",
            "execution_count": 17,
            "metadata": {},
            "outputs": [],
            "source": "pf = PolynomialFeatures(degree=2, include_bias=False,)\nX_pf = pf.fit_transform(X)"
        },
        {
            "cell_type": "markdown",
            "metadata": {},
            "source": "**Note:** We use `include_bias=False` since `Lasso` includes a bias by default."
        },
        {
            "cell_type": "code",
            "execution_count": 18,
            "metadata": {},
            "outputs": [],
            "source": "X_pf_ss = s.fit_transform(X_pf)"
        },
        {
            "cell_type": "markdown",
            "metadata": {},
            "source": "### Lasso"
        },
        {
            "cell_type": "markdown",
            "metadata": {},
            "source": "[`Lasso` documentation](http://scikit-learn.org/stable/modules/generated/sklearn.linear_model.Lasso.html)"
        },
        {
            "cell_type": "code",
            "execution_count": 19,
            "metadata": {},
            "outputs": [
                {
                    "data": {
                        "text/plain": "array([-0.   ,  0.   , -0.   ,  0.   , -0.   ,  0.   , -0.   , -0.   ,\n       -0.   , -0.   , -0.991,  0.   , -0.   , -0.   ,  0.   , -0.   ,\n        0.068, -0.   , -0.   , -0.   , -0.   , -0.   , -0.   , -0.   ,\n       -0.   , -0.   ,  0.   ,  0.   ,  0.   ,  0.   ,  0.   ,  0.   ,\n        0.   ,  0.   ,  0.   ,  0.   ,  0.   ,  0.   , -0.   ,  0.   ,\n       -0.   , -0.   , -0.   , -0.05 , -0.   , -0.   , -0.   , -0.   ,\n       -0.   ,  0.   ,  0.   ,  0.   ,  0.   ,  0.   ,  0.   ,  0.   ,\n        0.   ,  0.   ,  0.   , -0.   , -0.   , -0.   , -0.   , -0.   ,\n       -0.   , -0.   ,  0.   , -0.   ,  3.3  , -0.   , -0.   , -0.   ,\n       -0.   , -0.   ,  0.42 , -3.498, -0.   , -0.   , -0.   , -0.   ,\n       -0.   ,  0.   , -0.   , -0.   , -0.   , -0.146, -0.   , -0.   ,\n       -0.   , -0.   , -0.   , -0.   , -0.   , -0.   , -0.   , -0.   ,\n       -0.   , -0.   , -0.   ,  0.   , -0.   ,  0.   , -0.   , -0.   ])"
                    },
                    "execution_count": 19,
                    "metadata": {},
                    "output_type": "execute_result"
                }
            ],
            "source": "las = Lasso()\nlas.fit(X_pf_ss, y)\nlas.coef_ "
        },
        {
            "cell_type": "markdown",
            "metadata": {},
            "source": "### Exercise\n\nCompare \n\n* Sum of magnitudes of the coefficients\n* Number of coefficients that are zero\n\nfor Lasso with alpha 0.1 vs. 1.\n\nBefore doing the exercise, answer the following questions in one sentence each:\n\n* Which do you expect to have greater magnitude?\n* Which do you expect to have more zeros?"
        },
        {
            "cell_type": "code",
            "execution_count": 20,
            "metadata": {},
            "outputs": [
                {
                    "name": "stdout",
                    "output_type": "stream",
                    "text": "sum of coefficients: 26.138682362877972\nnumber of coefficients not equal to 0: 23\n"
                }
            ],
            "source": "### BEGIN SOLUTION\nlas01 = Lasso(alpha = 0.1)\nlas01.fit(X_pf_ss, y)\nprint('sum of coefficients:', abs(las01.coef_).sum() )\nprint('number of coefficients not equal to 0:', (las01.coef_!=0).sum())"
        },
        {
            "cell_type": "code",
            "execution_count": 21,
            "metadata": {},
            "outputs": [
                {
                    "name": "stdout",
                    "output_type": "stream",
                    "text": "sum of coefficients: 8.47240504455307\nnumber of coefficients not equal to 0: 7\n"
                }
            ],
            "source": "las1 = Lasso(alpha = 1)\nlas1.fit(X_pf_ss, y)\nprint('sum of coefficients:',abs(las1.coef_).sum() )\nprint('number of coefficients not equal to 0:',(las1.coef_!=0).sum())\n### END SOLUTION"
        },
        {
            "cell_type": "markdown",
            "metadata": {},
            "source": "With more regularization (higher alpha) we will expect the penalty for higher weights to be greater and thus the coefficients to be pushed down. Thus a higher alpha means lower magnitude with more coefficients pushed down to 0."
        },
        {
            "cell_type": "markdown",
            "metadata": {},
            "source": "### Exercise: $R^2$"
        },
        {
            "cell_type": "markdown",
            "metadata": {},
            "source": "Calculate the $R^2$ of each model without train/test split.\n\nRecall that we import $R^2$ using:\n\n```python\nfrom sklearn.metrics import r2_score\n```"
        },
        {
            "cell_type": "code",
            "execution_count": 22,
            "metadata": {},
            "outputs": [
                {
                    "data": {
                        "text/plain": "0.7207000417838495"
                    },
                    "execution_count": 22,
                    "metadata": {},
                    "output_type": "execute_result"
                }
            ],
            "source": "### BEGIN SOLUTION\n# from sklearn.metrics import r2_score\nr2_score(y,las.predict(X_pf_ss))\n### END SOLUTION"
        },
        {
            "cell_type": "markdown",
            "metadata": {},
            "source": "#### Discuss:\n\nWill regularization ever increase model performance if we evaluate on the same dataset that we trained on?"
        },
        {
            "cell_type": "markdown",
            "metadata": {},
            "source": "## With train/test split"
        },
        {
            "cell_type": "markdown",
            "metadata": {},
            "source": "#### Discuss\n\nAre there any issues with what we've done so far?\n\n**Hint:** Think about the way we have done feature scaling.\n\nDiscuss in groups of two or three."
        },
        {
            "cell_type": "code",
            "execution_count": 23,
            "metadata": {},
            "outputs": [],
            "source": "# from sklearn.model_selection import train_test_split"
        },
        {
            "cell_type": "code",
            "execution_count": 24,
            "metadata": {},
            "outputs": [],
            "source": "X_train, X_test, y_train, y_test = train_test_split(X_pf, y, test_size=0.3, \n                                                    random_state=72018)"
        },
        {
            "cell_type": "code",
            "execution_count": 25,
            "metadata": {},
            "outputs": [
                {
                    "data": {
                        "text/plain": "0.33177406838134416"
                    },
                    "execution_count": 25,
                    "metadata": {},
                    "output_type": "execute_result"
                }
            ],
            "source": "X_train_s = s.fit_transform(X_train)\nlas.fit(X_train_s, y_train)\nX_test_s = s.transform(X_test)\ny_pred = las.predict(X_test_s)\nr2_score(y_pred, y_test)"
        },
        {
            "cell_type": "code",
            "execution_count": 26,
            "metadata": {},
            "outputs": [
                {
                    "data": {
                        "text/plain": "0.7102444090776471"
                    },
                    "execution_count": 26,
                    "metadata": {},
                    "output_type": "execute_result"
                }
            ],
            "source": "X_train_s = s.fit_transform(X_train)\nlas01.fit(X_train_s, y_train)\nX_test_s = s.transform(X_test)\ny_pred = las01.predict(X_test_s)\nr2_score(y_pred, y_test)"
        },
        {
            "cell_type": "markdown",
            "metadata": {},
            "source": "### Exercise\n\n\n#### Part 1:\n\nDo the same thing with Lasso of:\n\n* `alpha` of 0.001\n* Increase `max_iter` to 100000 to ensure convergence. \n\nCalculate the $R^2$ of the model.\n\nFeel free to copy-paste code from above, but write a one sentence comment above each line of code explaining why you're doing what you're doing.\n\n#### Part 2:\n\nDo the same procedure as before, but with Linear Regression.\n\nCalculate the $R^2$ of this model.\n\n#### Part 3: \n\nCompare the sums of the absolute values of the coefficients for both models, as well as the number of coefficients that are zero. Based on these measures, which model is a \"simpler\" description of the relationship between the features and the target?"
        },
        {
            "cell_type": "code",
            "execution_count": 27,
            "metadata": {},
            "outputs": [
                {
                    "name": "stdout",
                    "output_type": "stream",
                    "text": "r2 score for alpha = 0.001: 0.8686454101886831\nr2 score for Linear Regression: 0.8555202098064144\nMagnitude of Lasso coefficients: 436.26164263066653\nNumber of coeffients not equal to 0 for Lasso: 89\nMagnitude of Linear Regression coefficients: 1185.285825445203\nNumber of coeffients not equal to 0 for Linear Regression: 104\n"
                }
            ],
            "source": "### BEGIN SOLUTION\n\n# Part 1\n\n# Decreasing regularization and ensuring convergence\nlas001 = Lasso(alpha = 0.001, max_iter=100000)\n\n# Transforming training set to get standardized units\nX_train_s = s.fit_transform(X_train)\n\n# Fitting model to training set\nlas001.fit(X_train_s, y_train)\n\n# Transforming test set using the parameters defined from training set\nX_test_s = s.transform(X_test)\n\n# Finding prediction on test set\ny_pred = las001.predict(X_test_s)\n\n# Calculating r2 score\nprint(\"r2 score for alpha = 0.001:\", r2_score(y_pred, y_test))\n\n\n# Part 2\n\n# Using vanilla Linear Regression\nlr = LinearRegression()\n\n# Fitting model to training set\nlr.fit(X_train_s, y_train)\n\n# predicting on test set\ny_pred_lr = lr.predict(X_test_s)\n\n# Calculating r2 score\nprint(\"r2 score for Linear Regression:\", r2_score(y_pred_lr, y_test))\n\n\n# Part 3\nprint('Magnitude of Lasso coefficients:', abs(las001.coef_).sum())\nprint('Number of coeffients not equal to 0 for Lasso:', (las001.coef_!=0).sum())\n\nprint('Magnitude of Linear Regression coefficients:', abs(lr.coef_).sum())\nprint('Number of coeffients not equal to 0 for Linear Regression:', (lr.coef_!=0).sum())\n### END SOLUTION"
        },
        {
            "cell_type": "markdown",
            "metadata": {},
            "source": "## L1 vs. L2 Regularization"
        },
        {
            "cell_type": "markdown",
            "metadata": {},
            "source": "As mentioned in the deck: `Lasso` and `Ridge` regression have the same syntax in SciKit Learn.\n\nNow we're going to compare the results from Ridge vs. Lasso regression:"
        },
        {
            "cell_type": "markdown",
            "metadata": {},
            "source": "[`Ridge`](http://scikit-learn.org/stable/modules/generated/sklearn.linear_model.Ridge.html)"
        },
        {
            "cell_type": "code",
            "execution_count": 28,
            "metadata": {},
            "outputs": [],
            "source": "# from sklearn.linear_model import Ridge"
        },
        {
            "cell_type": "markdown",
            "metadata": {},
            "source": "### Exercise\n\nFollowing the Ridge documentation from above:\n\n1. Define a Ridge object `r` with the same `alpha` as `las001`.\n2. Fit that object on `X` and `y` and print out the resulting coefficients."
        },
        {
            "cell_type": "code",
            "execution_count": 29,
            "metadata": {},
            "outputs": [
                {
                    "data": {
                        "text/plain": "array([  8.727,  10.354, -24.683,   5.299,  -3.13 ,  14.781,  22.301,\n       -23.483,  27.356,  -1.512,  16.949,  22.531,  11.444,   1.055,\n         0.437,  14.259,   1.83 ,  -8.737,   4.726,  -3.748,  -3.557,\n       -16.521,  -6.918,   6.064,  -1.363,   4.604,  -1.303,  -0.057,\n        -0.301, -12.828,   2.016,   1.084,  -0.655,  -1.092,   4.458,\n        -4.247,   4.156,  -1.282,   8.71 ,  -0.285,  -8.595,  11.595,\n         6.544,   1.271,   1.827,   1.007,   1.554,   5.173,  -4.685,\n         5.299,  -3.199,  -8.715,   0.983,   1.119,   0.284,  -1.683,\n        -2.884,   2.985,  -0.756,  12.297,   0.931,  -7.594,  18.292,\n       -22.124,  35.725, -21.894,  -7.789,   1.774,   4.101, -12.263,\n        -3.741,  -5.525, -16.111,  -5.706,  -4.666,  -9.884,   0.989,\n        -0.092,  17.145, -14.214,  -2.955,  -2.785,  -5.404,  11.825,\n         0.085,  -4.352,  -5.616,  -2.843,   0.826, -29.129,  49.636,\n       -21.571,  -1.263,  -8.811, -15.822,  11.975,  -1.023,   2.911,\n        -0.656,  -4.955,   2.817,  -2.463,  -2.381,   1.686])"
                    },
                    "execution_count": 29,
                    "metadata": {},
                    "output_type": "execute_result"
                }
            ],
            "source": "### BEGIN SOLUTION\n# Decreasing regularization and ensuring convergence\nr = Ridge(alpha = 0.001)\nX_train_s = s.fit_transform(X_train)\nr.fit(X_train_s, y_train)\nX_test_s = s.transform(X_test)\ny_pred_r = r.predict(X_test_s)\n\n# Calculating r2 score\nr.coef_\n### END SOLUTION"
        },
        {
            "cell_type": "code",
            "execution_count": 30,
            "metadata": {
                "scrolled": true
            },
            "outputs": [
                {
                    "data": {
                        "text/plain": "Lasso(alpha=0.001, copy_X=True, fit_intercept=True, max_iter=100000,\n   normalize=False, positive=False, precompute=False, random_state=None,\n   selection='cyclic', tol=0.0001, warm_start=False)"
                    },
                    "execution_count": 30,
                    "metadata": {},
                    "output_type": "execute_result"
                }
            ],
            "source": "las001 # same alpha as Ridge above"
        },
        {
            "cell_type": "code",
            "execution_count": 31,
            "metadata": {},
            "outputs": [
                {
                    "data": {
                        "text/plain": "array([  0.   ,   0.   , -16.945,   2.562,   0.   ,  13.392,   9.907,\n       -19.96 ,   9.039,   0.   ,   6.138,  17.628,  11.446,   1.21 ,\n         0.226,  11.578,   2.197,  -7.397,   4.117,  -1.589,  -2.157,\n        -9.837,   0.   ,   0.   ,  -1.089,   3.793,   0.389,   0.2  ,\n        -0.297,  -3.352,   0.396,   0.719,  -0.756,  -0.753,   2.388,\n        -0.845,   2.524,  -0.973,   3.882,  -0.983,   6.609,   6.138,\n         4.201,   0.858,   1.96 ,   2.661,  -4.148,   2.937,  -4.556,\n         2.112,  -1.983,  -7.439,   1.607,   1.668,  -1.262,  -0.   ,\n        -0.   ,   2.622,  -0.861,   3.353,  -0.   ,  -2.451,   9.171,\n        -6.917,   0.   ,  -5.618,  -5.716,   0.521,   3.354,  -7.528,\n        -0.   ,  -6.646, -10.212,  -6.346,  -2.95 ,  -9.559,   0.327,\n         0.56 ,  11.006,  -6.666,  -1.158,  -2.25 ,  -3.53 ,   9.035,\n        -0.   ,  -2.316,  -2.   ,  -1.124,   0.804, -20.861,  27.166,\n         0.   ,  -1.51 ,  -6.745,  -5.098,  15.455,   0.   ,   0.   ,\n         0.629,  -3.959,   2.502,  -2.499,  -2.23 ,   2.201])"
                    },
                    "execution_count": 31,
                    "metadata": {},
                    "output_type": "execute_result"
                }
            ],
            "source": "las001.coef_"
        },
        {
            "cell_type": "code",
            "execution_count": 32,
            "metadata": {},
            "outputs": [
                {
                    "name": "stdout",
                    "output_type": "stream",
                    "text": "795.6521694353686\n436.26164263066653\n104\n89\n"
                }
            ],
            "source": "print(np.sum(np.abs(r.coef_)))\nprint(np.sum(np.abs(las001.coef_)))\n\nprint(np.sum(r.coef_ != 0))\nprint(np.sum(las001.coef_ != 0))"
        },
        {
            "cell_type": "markdown",
            "metadata": {},
            "source": "**Conclusion:** Ridge does not make any coefficients 0. In addition, on this particular dataset, Lasso provides stronger overall regularization than Ridge for this value of `alpha` (not necessarily true in general)."
        },
        {
            "cell_type": "code",
            "execution_count": 33,
            "metadata": {},
            "outputs": [
                {
                    "name": "stdout",
                    "output_type": "stream",
                    "text": "0.9075278340576745\n0.910293372268828\n"
                }
            ],
            "source": "y_pred = r.predict(X_pf_ss)\nprint(r2_score(y, y_pred))\n\ny_pred = las001.predict(X_pf_ss)\nprint(r2_score(y, y_pred))"
        },
        {
            "cell_type": "markdown",
            "metadata": {},
            "source": "**Conclusion**: Ignoring issues of overfitting, Ridge does slightly better than Lasso when `alpha` is set to 0.001 for each (not necessarily true in general)."
        },
        {
            "cell_type": "markdown",
            "metadata": {},
            "source": "# Example: Does it matter when you scale?"
        },
        {
            "cell_type": "code",
            "execution_count": 34,
            "metadata": {},
            "outputs": [],
            "source": "X_train, X_test, y_train, y_test = train_test_split(X_ss, y, test_size=0.3, \n                                                    random_state=72018)"
        },
        {
            "cell_type": "code",
            "execution_count": 35,
            "metadata": {},
            "outputs": [
                {
                    "data": {
                        "text/plain": "0.5832942094971806"
                    },
                    "execution_count": 35,
                    "metadata": {},
                    "output_type": "execute_result"
                }
            ],
            "source": "lr = LinearRegression()\nlr.fit(X_train, y_train)\ny_pred = lr.predict(X_test)\nr2_score(y_pred, y_test)"
        },
        {
            "cell_type": "code",
            "execution_count": 36,
            "metadata": {},
            "outputs": [],
            "source": "X_train, X_test, y_train, y_test = train_test_split(X, y, test_size=0.3, \n                                                    random_state=72018)"
        },
        {
            "cell_type": "code",
            "execution_count": 37,
            "metadata": {},
            "outputs": [
                {
                    "data": {
                        "text/plain": "0.58329420949718"
                    },
                    "execution_count": 37,
                    "metadata": {},
                    "output_type": "execute_result"
                }
            ],
            "source": "s = StandardScaler()\nlr_s = LinearRegression()\nX_train_s = s.fit_transform(X_train)\nlr_s.fit(X_train_s, y_train)\nX_test_s = s.transform(X_test)\ny_pred_s = lr_s.predict(X_test_s)\nr2_score(y_pred_s, y_test)"
        },
        {
            "cell_type": "markdown",
            "metadata": {},
            "source": "**Conclusion:** It doesn't matter whether you scale before or afterwards, in terms of the raw predictions, for Linear Regression. However, it matters for other algorithms. Plus, as we'll see later, we can make scaling part of a `Pipeline`."
        },
        {
            "cell_type": "markdown",
            "metadata": {},
            "source": "---\n### Machine Learning Foundation (C) 2020 IBM Corporation"
        }
    ],
    "metadata": {
        "kernelspec": {
            "display_name": "Python 3.6",
            "language": "python",
            "name": "python3"
        },
        "language_info": {
            "codemirror_mode": {
                "name": "ipython",
                "version": 3
            },
            "file_extension": ".py",
            "mimetype": "text/x-python",
            "name": "python",
            "nbconvert_exporter": "python",
            "pygments_lexer": "ipython3",
            "version": "3.6.9"
        }
    },
    "nbformat": 4,
    "nbformat_minor": 4
}
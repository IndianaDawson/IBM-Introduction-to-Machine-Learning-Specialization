{
    "cells": [
        {
            "cell_type": "markdown",
            "metadata": {},
            "source": "# Machine Learning Foundation\n\n## Section 2, Part a: Regression Intro: Transforming Target "
        },
        {
            "cell_type": "markdown",
            "metadata": {},
            "source": "## Learning objectives\n\nBy the end of this lesson, you will be able to:\n\n* Apply transformations to make target variable more normally distributed for regression\n* Apply inverse transformations to be able to use these in a regression context"
        },
        {
            "cell_type": "code",
            "execution_count": 1,
            "metadata": {},
            "outputs": [],
            "source": "import numpy as np\nimport pandas as pd\nimport matplotlib.pyplot as plt\nimport sklearn\n%matplotlib inline\n\n# Going to load boston housing csv data set from this\n# data set is also available here: https://github.com/selva86/datasets/blob/master/BostonHousing.csv\nfrom sklearn.datasets import load_boston\n\nimport warnings\nwarnings.simplefilter(\"ignore\")"
        },
        {
            "cell_type": "markdown",
            "metadata": {},
            "source": "### Loading in Boston Data"
        },
        {
            "cell_type": "markdown",
            "metadata": {},
            "source": "**Note:** loading the dataset that we imported"
        },
        {
            "cell_type": "code",
            "execution_count": 2,
            "metadata": {},
            "outputs": [
                {
                    "data": {
                        "text/html": "<div>\n<style scoped>\n    .dataframe tbody tr th:only-of-type {\n        vertical-align: middle;\n    }\n\n    .dataframe tbody tr th {\n        vertical-align: top;\n    }\n\n    .dataframe thead th {\n        text-align: right;\n    }\n</style>\n<table border=\"1\" class=\"dataframe\">\n  <thead>\n    <tr style=\"text-align: right;\">\n      <th></th>\n      <th>CRIM</th>\n      <th>ZN</th>\n      <th>INDUS</th>\n      <th>CHAS</th>\n      <th>NOX</th>\n      <th>RM</th>\n      <th>AGE</th>\n      <th>DIS</th>\n      <th>RAD</th>\n      <th>TAX</th>\n      <th>PTRATIO</th>\n      <th>B</th>\n      <th>LSTAT</th>\n      <th>MEDV</th>\n    </tr>\n  </thead>\n  <tbody>\n    <tr>\n      <th>0</th>\n      <td>0.00632</td>\n      <td>18.0</td>\n      <td>2.31</td>\n      <td>0.0</td>\n      <td>0.538</td>\n      <td>6.575</td>\n      <td>65.2</td>\n      <td>4.0900</td>\n      <td>1.0</td>\n      <td>296.0</td>\n      <td>15.3</td>\n      <td>396.90</td>\n      <td>4.98</td>\n      <td>24.0</td>\n    </tr>\n    <tr>\n      <th>1</th>\n      <td>0.02731</td>\n      <td>0.0</td>\n      <td>7.07</td>\n      <td>0.0</td>\n      <td>0.469</td>\n      <td>6.421</td>\n      <td>78.9</td>\n      <td>4.9671</td>\n      <td>2.0</td>\n      <td>242.0</td>\n      <td>17.8</td>\n      <td>396.90</td>\n      <td>9.14</td>\n      <td>21.6</td>\n    </tr>\n    <tr>\n      <th>2</th>\n      <td>0.02729</td>\n      <td>0.0</td>\n      <td>7.07</td>\n      <td>0.0</td>\n      <td>0.469</td>\n      <td>7.185</td>\n      <td>61.1</td>\n      <td>4.9671</td>\n      <td>2.0</td>\n      <td>242.0</td>\n      <td>17.8</td>\n      <td>392.83</td>\n      <td>4.03</td>\n      <td>34.7</td>\n    </tr>\n    <tr>\n      <th>3</th>\n      <td>0.03237</td>\n      <td>0.0</td>\n      <td>2.18</td>\n      <td>0.0</td>\n      <td>0.458</td>\n      <td>6.998</td>\n      <td>45.8</td>\n      <td>6.0622</td>\n      <td>3.0</td>\n      <td>222.0</td>\n      <td>18.7</td>\n      <td>394.63</td>\n      <td>2.94</td>\n      <td>33.4</td>\n    </tr>\n    <tr>\n      <th>4</th>\n      <td>0.06905</td>\n      <td>0.0</td>\n      <td>2.18</td>\n      <td>0.0</td>\n      <td>0.458</td>\n      <td>7.147</td>\n      <td>54.2</td>\n      <td>6.0622</td>\n      <td>3.0</td>\n      <td>222.0</td>\n      <td>18.7</td>\n      <td>396.90</td>\n      <td>5.33</td>\n      <td>36.2</td>\n    </tr>\n    <tr>\n      <th>5</th>\n      <td>0.02985</td>\n      <td>0.0</td>\n      <td>2.18</td>\n      <td>0.0</td>\n      <td>0.458</td>\n      <td>6.430</td>\n      <td>58.7</td>\n      <td>6.0622</td>\n      <td>3.0</td>\n      <td>222.0</td>\n      <td>18.7</td>\n      <td>394.12</td>\n      <td>5.21</td>\n      <td>28.7</td>\n    </tr>\n    <tr>\n      <th>6</th>\n      <td>0.08829</td>\n      <td>12.5</td>\n      <td>7.87</td>\n      <td>0.0</td>\n      <td>0.524</td>\n      <td>6.012</td>\n      <td>66.6</td>\n      <td>5.5605</td>\n      <td>5.0</td>\n      <td>311.0</td>\n      <td>15.2</td>\n      <td>395.60</td>\n      <td>12.43</td>\n      <td>22.9</td>\n    </tr>\n    <tr>\n      <th>7</th>\n      <td>0.14455</td>\n      <td>12.5</td>\n      <td>7.87</td>\n      <td>0.0</td>\n      <td>0.524</td>\n      <td>6.172</td>\n      <td>96.1</td>\n      <td>5.9505</td>\n      <td>5.0</td>\n      <td>311.0</td>\n      <td>15.2</td>\n      <td>396.90</td>\n      <td>19.15</td>\n      <td>27.1</td>\n    </tr>\n    <tr>\n      <th>8</th>\n      <td>0.21124</td>\n      <td>12.5</td>\n      <td>7.87</td>\n      <td>0.0</td>\n      <td>0.524</td>\n      <td>5.631</td>\n      <td>100.0</td>\n      <td>6.0821</td>\n      <td>5.0</td>\n      <td>311.0</td>\n      <td>15.2</td>\n      <td>386.63</td>\n      <td>29.93</td>\n      <td>16.5</td>\n    </tr>\n    <tr>\n      <th>9</th>\n      <td>0.17004</td>\n      <td>12.5</td>\n      <td>7.87</td>\n      <td>0.0</td>\n      <td>0.524</td>\n      <td>6.004</td>\n      <td>85.9</td>\n      <td>6.5921</td>\n      <td>5.0</td>\n      <td>311.0</td>\n      <td>15.2</td>\n      <td>386.71</td>\n      <td>17.10</td>\n      <td>18.9</td>\n    </tr>\n    <tr>\n      <th>10</th>\n      <td>0.22489</td>\n      <td>12.5</td>\n      <td>7.87</td>\n      <td>0.0</td>\n      <td>0.524</td>\n      <td>6.377</td>\n      <td>94.3</td>\n      <td>6.3467</td>\n      <td>5.0</td>\n      <td>311.0</td>\n      <td>15.2</td>\n      <td>392.52</td>\n      <td>20.45</td>\n      <td>15.0</td>\n    </tr>\n    <tr>\n      <th>11</th>\n      <td>0.11747</td>\n      <td>12.5</td>\n      <td>7.87</td>\n      <td>0.0</td>\n      <td>0.524</td>\n      <td>6.009</td>\n      <td>82.9</td>\n      <td>6.2267</td>\n      <td>5.0</td>\n      <td>311.0</td>\n      <td>15.2</td>\n      <td>396.90</td>\n      <td>13.27</td>\n      <td>18.9</td>\n    </tr>\n    <tr>\n      <th>12</th>\n      <td>0.09378</td>\n      <td>12.5</td>\n      <td>7.87</td>\n      <td>0.0</td>\n      <td>0.524</td>\n      <td>5.889</td>\n      <td>39.0</td>\n      <td>5.4509</td>\n      <td>5.0</td>\n      <td>311.0</td>\n      <td>15.2</td>\n      <td>390.50</td>\n      <td>15.71</td>\n      <td>21.7</td>\n    </tr>\n    <tr>\n      <th>13</th>\n      <td>0.62976</td>\n      <td>0.0</td>\n      <td>8.14</td>\n      <td>0.0</td>\n      <td>0.538</td>\n      <td>5.949</td>\n      <td>61.8</td>\n      <td>4.7075</td>\n      <td>4.0</td>\n      <td>307.0</td>\n      <td>21.0</td>\n      <td>396.90</td>\n      <td>8.26</td>\n      <td>20.4</td>\n    </tr>\n    <tr>\n      <th>14</th>\n      <td>0.63796</td>\n      <td>0.0</td>\n      <td>8.14</td>\n      <td>0.0</td>\n      <td>0.538</td>\n      <td>6.096</td>\n      <td>84.5</td>\n      <td>4.4619</td>\n      <td>4.0</td>\n      <td>307.0</td>\n      <td>21.0</td>\n      <td>380.02</td>\n      <td>10.26</td>\n      <td>18.2</td>\n    </tr>\n  </tbody>\n</table>\n</div>",
                        "text/plain": "       CRIM    ZN  INDUS  CHAS    NOX     RM    AGE     DIS  RAD    TAX  \\\n0   0.00632  18.0   2.31   0.0  0.538  6.575   65.2  4.0900  1.0  296.0   \n1   0.02731   0.0   7.07   0.0  0.469  6.421   78.9  4.9671  2.0  242.0   \n2   0.02729   0.0   7.07   0.0  0.469  7.185   61.1  4.9671  2.0  242.0   \n3   0.03237   0.0   2.18   0.0  0.458  6.998   45.8  6.0622  3.0  222.0   \n4   0.06905   0.0   2.18   0.0  0.458  7.147   54.2  6.0622  3.0  222.0   \n5   0.02985   0.0   2.18   0.0  0.458  6.430   58.7  6.0622  3.0  222.0   \n6   0.08829  12.5   7.87   0.0  0.524  6.012   66.6  5.5605  5.0  311.0   \n7   0.14455  12.5   7.87   0.0  0.524  6.172   96.1  5.9505  5.0  311.0   \n8   0.21124  12.5   7.87   0.0  0.524  5.631  100.0  6.0821  5.0  311.0   \n9   0.17004  12.5   7.87   0.0  0.524  6.004   85.9  6.5921  5.0  311.0   \n10  0.22489  12.5   7.87   0.0  0.524  6.377   94.3  6.3467  5.0  311.0   \n11  0.11747  12.5   7.87   0.0  0.524  6.009   82.9  6.2267  5.0  311.0   \n12  0.09378  12.5   7.87   0.0  0.524  5.889   39.0  5.4509  5.0  311.0   \n13  0.62976   0.0   8.14   0.0  0.538  5.949   61.8  4.7075  4.0  307.0   \n14  0.63796   0.0   8.14   0.0  0.538  6.096   84.5  4.4619  4.0  307.0   \n\n    PTRATIO       B  LSTAT  MEDV  \n0      15.3  396.90   4.98  24.0  \n1      17.8  396.90   9.14  21.6  \n2      17.8  392.83   4.03  34.7  \n3      18.7  394.63   2.94  33.4  \n4      18.7  396.90   5.33  36.2  \n5      18.7  394.12   5.21  28.7  \n6      15.2  395.60  12.43  22.9  \n7      15.2  396.90  19.15  27.1  \n8      15.2  386.63  29.93  16.5  \n9      15.2  386.71  17.10  18.9  \n10     15.2  392.52  20.45  15.0  \n11     15.2  396.90  13.27  18.9  \n12     15.2  390.50  15.71  21.7  \n13     21.0  396.90   8.26  20.4  \n14     21.0  380.02  10.26  18.2  "
                    },
                    "execution_count": 2,
                    "metadata": {},
                    "output_type": "execute_result"
                }
            ],
            "source": "boston_dataset = load_boston()\nboston_data = pd.DataFrame(boston_dataset.data, columns=boston_dataset.feature_names)\n\n# need to also load the target variable\n# see this link for more details: https://towardsdatascience.com/linear-regression-on-boston-housing-dataset-f409b7e4a155\nboston_data['MEDV'] = boston_dataset.target\nboston_data.head(15)"
        },
        {
            "cell_type": "markdown",
            "metadata": {},
            "source": "### Determining Normality"
        },
        {
            "cell_type": "markdown",
            "metadata": {},
            "source": "Making our target variable normally distributed often will lead to better results\n\nIf our target is not normally distributed, we can apply a transformation to it and then fit our regression to predict the transformed values.\n\nHow can we tell if our target is normally distributed? There are two ways:\n\n* Visually\n* Using a statistical test"
        },
        {
            "cell_type": "markdown",
            "metadata": {},
            "source": "#### Visually"
        },
        {
            "cell_type": "markdown",
            "metadata": {},
            "source": "Plotting a histogram:"
        },
        {
            "cell_type": "markdown",
            "metadata": {},
            "source": "Does not look normal due to that right tail. Let's try to verify statistically:"
        },
        {
            "cell_type": "code",
            "execution_count": 3,
            "metadata": {},
            "outputs": [],
            "source": "from scipy.stats.mstats import normaltest # D'Agostino K^2 Test"
        },
        {
            "cell_type": "markdown",
            "metadata": {},
            "source": "Without getting into Bayesian vs. frequentist debates, for the purposes of this lesson, the following will suffice:\n\n* This is a statistical test that tests whether a distribution is normally distributed or not. It isn't perfect, but suffice it to say: \n    * This test outputs a \"p-value\". The _higher_ this p-value is the _closer_ the distribution is to normal.\n    * Frequentist statisticians would say that you accept that the distribution is normal (more specifically: fail to reject the null hypothesis that it is normal) if p > 0.05."
        },
        {
            "cell_type": "code",
            "execution_count": 4,
            "metadata": {},
            "outputs": [
                {
                    "data": {
                        "text/plain": "NormaltestResult(statistic=90.9746873700967, pvalue=1.7583188871696095e-20)"
                    },
                    "execution_count": 4,
                    "metadata": {},
                    "output_type": "execute_result"
                }
            ],
            "source": "normaltest(boston_data.MEDV.values)"
        },
        {
            "cell_type": "markdown",
            "metadata": {},
            "source": "p-value _extremely_ low. Our y variable we've been dealing with this whole time was not normally distributed!"
        },
        {
            "cell_type": "markdown",
            "metadata": {},
            "source": "Linear Regression assumes a normally distributed residuals which can be aided by transforming y variable. Let's try some common transformations to try and get y to be normally distributed: \n\n* Log\n* Square root\n* Box cox"
        },
        {
            "cell_type": "markdown",
            "metadata": {},
            "source": "### Testing log"
        },
        {
            "cell_type": "markdown",
            "metadata": {},
            "source": "The log transform can transform data that is significantly skewed right to be more normally distributed:"
        },
        {
            "cell_type": "code",
            "execution_count": 5,
            "metadata": {},
            "outputs": [],
            "source": "## this just took a set of random data that when log transformed, looked normal\n## this was the log data\n#data = plot_exponential_data()"
        },
        {
            "cell_type": "code",
            "execution_count": 6,
            "metadata": {},
            "outputs": [],
            "source": "## And then it plotted it transformed, next we will see if this works on the boston data\n#plt.hist(np.log(data));"
        },
        {
            "cell_type": "markdown",
            "metadata": {},
            "source": "**Apply transform to Boston data:**"
        },
        {
            "cell_type": "code",
            "execution_count": 7,
            "metadata": {},
            "outputs": [
                {
                    "data": {
                        "image/png": "[encoded data removed]",
                        "text/plain": "<Figure size 432x288 with 1 Axes>"
                    },
                    "metadata": {
                        "needs_background": "light"
                    },
                    "output_type": "display_data"
                }
            ],
            "source": "boston_data['MEDV'].hist();"
        },
        {
            "cell_type": "code",
            "execution_count": 8,
            "metadata": {},
            "outputs": [
                {
                    "data": {
                        "image/png": "[encoded data removed]",
                        "text/plain": "<Figure size 432x288 with 1 Axes>"
                    },
                    "metadata": {
                        "needs_background": "light"
                    },
                    "output_type": "display_data"
                }
            ],
            "source": "log_medv = np.log(boston_data.MEDV)\nlog_medv.hist();"
        },
        {
            "cell_type": "code",
            "execution_count": 9,
            "metadata": {},
            "outputs": [
                {
                    "data": {
                        "text/plain": "NormaltestResult(statistic=17.21801696640698, pvalue=0.00018245472768345196)"
                    },
                    "execution_count": 9,
                    "metadata": {},
                    "output_type": "execute_result"
                }
            ],
            "source": "normaltest(log_medv)"
        },
        {
            "cell_type": "markdown",
            "metadata": {},
            "source": "Conclusion: closer, but still not normal."
        },
        {
            "cell_type": "markdown",
            "metadata": {},
            "source": "### Exercise: \n\nThe square root transformation is another transformation that can transform non-normally distributed data into normally distributed data:"
        },
        {
            "cell_type": "code",
            "execution_count": 10,
            "metadata": {
                "scrolled": true
            },
            "outputs": [],
            "source": "## same thing as before\n#data = plot_square_normal_data()"
        },
        {
            "cell_type": "markdown",
            "metadata": {},
            "source": "Slightly skewed right."
        },
        {
            "cell_type": "code",
            "execution_count": 11,
            "metadata": {
                "scrolled": true
            },
            "outputs": [],
            "source": "#plt.hist(np.sqrt(data));"
        },
        {
            "cell_type": "markdown",
            "metadata": {},
            "source": "Apply the square root transformation to the Boston data target and test whether the result is normally distributed."
        },
        {
            "cell_type": "code",
            "execution_count": 12,
            "metadata": {},
            "outputs": [
                {
                    "data": {
                        "image/png": "[encoded data removed]",
                        "text/plain": "<Figure size 432x288 with 1 Axes>"
                    },
                    "metadata": {
                        "needs_background": "light"
                    },
                    "output_type": "display_data"
                }
            ],
            "source": "boston_data['MEDV'].hist();"
        },
        {
            "cell_type": "code",
            "execution_count": 13,
            "metadata": {},
            "outputs": [
                {
                    "data": {
                        "text/plain": "(array([  9.,  18.,  40.,  67., 131., 121.,  48.,  36.,  10.,  26.]),\n array([2.23606798, 2.71956796, 3.20306794, 3.68656793, 4.17006791,\n        4.65356789, 5.13706788, 5.62056786, 6.10406784, 6.58756783,\n        7.07106781]),\n <a list of 10 Patch objects>)"
                    },
                    "execution_count": 13,
                    "metadata": {},
                    "output_type": "execute_result"
                },
                {
                    "data": {
                        "image/png": "[encoded data removed]",
                        "text/plain": "<Figure size 432x288 with 1 Axes>"
                    },
                    "metadata": {
                        "needs_background": "light"
                    },
                    "output_type": "display_data"
                }
            ],
            "source": "sqrt_medv = np.sqrt(boston_data.MEDV)\nplt.hist(sqrt_medv)"
        },
        {
            "cell_type": "code",
            "execution_count": 14,
            "metadata": {},
            "outputs": [
                {
                    "data": {
                        "text/plain": "NormaltestResult(statistic=20.487090826863067, pvalue=3.558645701429252e-05)"
                    },
                    "execution_count": 14,
                    "metadata": {},
                    "output_type": "execute_result"
                }
            ],
            "source": "normaltest(sqrt_medv)"
        },
        {
            "cell_type": "markdown",
            "metadata": {},
            "source": "### Box cox"
        },
        {
            "cell_type": "markdown",
            "metadata": {},
            "source": "The box cox transformation is a parametrized transformation that tries to get distributions \"as close to a normal distribution as possible\".\n\nIt is defined as:\n\n$$ \\text{boxcox}(y_i) = \\frac{y_i^{\\lambda} - 1}{\\lambda} $$\n\nYou can think of as a generalization of the square root function: the square root function uses the exponent of 0.5, but box cox lets its exponent vary so it can find the best one."
        },
        {
            "cell_type": "code",
            "execution_count": 15,
            "metadata": {},
            "outputs": [],
            "source": "from scipy.stats import boxcox"
        },
        {
            "cell_type": "code",
            "execution_count": 16,
            "metadata": {},
            "outputs": [],
            "source": "bc_result = boxcox(boston_data.MEDV)\nboxcox_medv = bc_result[0]\nlam = bc_result[1]"
        },
        {
            "cell_type": "code",
            "execution_count": 17,
            "metadata": {
                "scrolled": true
            },
            "outputs": [
                {
                    "data": {
                        "text/plain": "0.21662091493775448"
                    },
                    "execution_count": 17,
                    "metadata": {},
                    "output_type": "execute_result"
                }
            ],
            "source": "lam"
        },
        {
            "cell_type": "code",
            "execution_count": 18,
            "metadata": {},
            "outputs": [
                {
                    "data": {
                        "image/png": "[encoded data removed]",
                        "text/plain": "<Figure size 432x288 with 1 Axes>"
                    },
                    "metadata": {
                        "needs_background": "light"
                    },
                    "output_type": "display_data"
                }
            ],
            "source": "boston_data['MEDV'].hist();"
        },
        {
            "cell_type": "code",
            "execution_count": 19,
            "metadata": {},
            "outputs": [
                {
                    "data": {
                        "image/png": "[encoded data removed]",
                        "text/plain": "<Figure size 432x288 with 1 Axes>"
                    },
                    "metadata": {
                        "needs_background": "light"
                    },
                    "output_type": "display_data"
                }
            ],
            "source": "plt.hist(boxcox_medv);"
        },
        {
            "cell_type": "code",
            "execution_count": 20,
            "metadata": {
                "scrolled": true
            },
            "outputs": [
                {
                    "data": {
                        "text/plain": "NormaltestResult(statistic=4.513528733498706, pvalue=0.10468867148201967)"
                    },
                    "execution_count": 20,
                    "metadata": {},
                    "output_type": "execute_result"
                }
            ],
            "source": "normaltest(boxcox_medv)"
        },
        {
            "cell_type": "markdown",
            "metadata": {},
            "source": "Significantly more normally distributed (according to p value) than the other two distributions - above 0.05, even!\n\nNow that we have a normally distributed y-variable, let's try a regression!"
        },
        {
            "cell_type": "markdown",
            "metadata": {},
            "source": "### Testing regression:"
        },
        {
            "cell_type": "code",
            "execution_count": 21,
            "metadata": {},
            "outputs": [],
            "source": "from sklearn.linear_model import LinearRegression\nfrom sklearn.metrics import r2_score\nfrom sklearn.model_selection import train_test_split\nfrom sklearn.preprocessing import (StandardScaler, \n                                   PolynomialFeatures)"
        },
        {
            "cell_type": "code",
            "execution_count": 22,
            "metadata": {},
            "outputs": [],
            "source": "lr = LinearRegression()"
        },
        {
            "cell_type": "markdown",
            "metadata": {},
            "source": "**Reload clean version of `boston_data`:**"
        },
        {
            "cell_type": "code",
            "execution_count": 23,
            "metadata": {},
            "outputs": [
                {
                    "data": {
                        "text/html": "<div>\n<style scoped>\n    .dataframe tbody tr th:only-of-type {\n        vertical-align: middle;\n    }\n\n    .dataframe tbody tr th {\n        vertical-align: top;\n    }\n\n    .dataframe thead th {\n        text-align: right;\n    }\n</style>\n<table border=\"1\" class=\"dataframe\">\n  <thead>\n    <tr style=\"text-align: right;\">\n      <th></th>\n      <th>CRIM</th>\n      <th>ZN</th>\n      <th>INDUS</th>\n      <th>CHAS</th>\n      <th>NOX</th>\n      <th>RM</th>\n      <th>AGE</th>\n      <th>DIS</th>\n      <th>RAD</th>\n      <th>TAX</th>\n      <th>PTRATIO</th>\n      <th>B</th>\n      <th>LSTAT</th>\n      <th>MEDV</th>\n    </tr>\n  </thead>\n  <tbody>\n    <tr>\n      <th>0</th>\n      <td>0.00632</td>\n      <td>18.0</td>\n      <td>2.31</td>\n      <td>0.0</td>\n      <td>0.538</td>\n      <td>6.575</td>\n      <td>65.2</td>\n      <td>4.0900</td>\n      <td>1.0</td>\n      <td>296.0</td>\n      <td>15.3</td>\n      <td>396.90</td>\n      <td>4.98</td>\n      <td>24.0</td>\n    </tr>\n    <tr>\n      <th>1</th>\n      <td>0.02731</td>\n      <td>0.0</td>\n      <td>7.07</td>\n      <td>0.0</td>\n      <td>0.469</td>\n      <td>6.421</td>\n      <td>78.9</td>\n      <td>4.9671</td>\n      <td>2.0</td>\n      <td>242.0</td>\n      <td>17.8</td>\n      <td>396.90</td>\n      <td>9.14</td>\n      <td>21.6</td>\n    </tr>\n    <tr>\n      <th>2</th>\n      <td>0.02729</td>\n      <td>0.0</td>\n      <td>7.07</td>\n      <td>0.0</td>\n      <td>0.469</td>\n      <td>7.185</td>\n      <td>61.1</td>\n      <td>4.9671</td>\n      <td>2.0</td>\n      <td>242.0</td>\n      <td>17.8</td>\n      <td>392.83</td>\n      <td>4.03</td>\n      <td>34.7</td>\n    </tr>\n    <tr>\n      <th>3</th>\n      <td>0.03237</td>\n      <td>0.0</td>\n      <td>2.18</td>\n      <td>0.0</td>\n      <td>0.458</td>\n      <td>6.998</td>\n      <td>45.8</td>\n      <td>6.0622</td>\n      <td>3.0</td>\n      <td>222.0</td>\n      <td>18.7</td>\n      <td>394.63</td>\n      <td>2.94</td>\n      <td>33.4</td>\n    </tr>\n    <tr>\n      <th>4</th>\n      <td>0.06905</td>\n      <td>0.0</td>\n      <td>2.18</td>\n      <td>0.0</td>\n      <td>0.458</td>\n      <td>7.147</td>\n      <td>54.2</td>\n      <td>6.0622</td>\n      <td>3.0</td>\n      <td>222.0</td>\n      <td>18.7</td>\n      <td>396.90</td>\n      <td>5.33</td>\n      <td>36.2</td>\n    </tr>\n  </tbody>\n</table>\n</div>",
                        "text/plain": "      CRIM    ZN  INDUS  CHAS    NOX     RM   AGE     DIS  RAD    TAX  \\\n0  0.00632  18.0   2.31   0.0  0.538  6.575  65.2  4.0900  1.0  296.0   \n1  0.02731   0.0   7.07   0.0  0.469  6.421  78.9  4.9671  2.0  242.0   \n2  0.02729   0.0   7.07   0.0  0.469  7.185  61.1  4.9671  2.0  242.0   \n3  0.03237   0.0   2.18   0.0  0.458  6.998  45.8  6.0622  3.0  222.0   \n4  0.06905   0.0   2.18   0.0  0.458  7.147  54.2  6.0622  3.0  222.0   \n\n   PTRATIO       B  LSTAT  MEDV  \n0     15.3  396.90   4.98  24.0  \n1     17.8  396.90   9.14  21.6  \n2     17.8  392.83   4.03  34.7  \n3     18.7  394.63   2.94  33.4  \n4     18.7  396.90   5.33  36.2  "
                    },
                    "execution_count": 23,
                    "metadata": {},
                    "output_type": "execute_result"
                }
            ],
            "source": "boston_dataset = load_boston()\nboston_data = pd.DataFrame(boston_dataset.data, columns=boston_dataset.feature_names)\n\n# need to also load the target variable\n# see this link for more details: https://towardsdatascience.com/linear-regression-on-boston-housing-dataset-f409b7e4a155\nboston_data['MEDV'] = boston_dataset.target\nboston_data.head()"
        },
        {
            "cell_type": "markdown",
            "metadata": {},
            "source": "Same steps as before."
        },
        {
            "cell_type": "markdown",
            "metadata": {},
            "source": "**Create X and y**"
        },
        {
            "cell_type": "code",
            "execution_count": 24,
            "metadata": {},
            "outputs": [],
            "source": "y_col = \"MEDV\"\n\nX = boston_data.drop(y_col, axis=1)\ny = boston_data[y_col]"
        },
        {
            "cell_type": "markdown",
            "metadata": {},
            "source": "**Create Polynomial Features**"
        },
        {
            "cell_type": "code",
            "execution_count": 25,
            "metadata": {},
            "outputs": [],
            "source": "pf = PolynomialFeatures(degree=2, include_bias=False)\nX_pf = pf.fit_transform(X)"
        },
        {
            "cell_type": "markdown",
            "metadata": {},
            "source": "**Train test split**"
        },
        {
            "cell_type": "code",
            "execution_count": 26,
            "metadata": {},
            "outputs": [],
            "source": "X_train, X_test, y_train, y_test = train_test_split(X_pf, y, test_size=0.3, \n                                                    random_state=72018)"
        },
        {
            "cell_type": "markdown",
            "metadata": {},
            "source": "**Fit `StandardScaler` on `X_train` as before**"
        },
        {
            "cell_type": "code",
            "execution_count": 27,
            "metadata": {},
            "outputs": [],
            "source": "s = StandardScaler()\nX_train_s = s.fit_transform(X_train)"
        },
        {
            "cell_type": "markdown",
            "metadata": {},
            "source": "**Discuss: what transformation do we need to apply next?**\n\nApply the appropriate transformation."
        },
        {
            "cell_type": "code",
            "execution_count": 28,
            "metadata": {},
            "outputs": [],
            "source": "bc_result2 = boxcox(y_train)\ny_train_bc = bc_result2[0]\nlam2 = bc_result2[1]"
        },
        {
            "cell_type": "markdown",
            "metadata": {},
            "source": "As before, we'll now:\n\n1. Fit regression\n1. Transform testing data\n1. Predict on testing data"
        },
        {
            "cell_type": "code",
            "execution_count": 29,
            "metadata": {},
            "outputs": [
                {
                    "data": {
                        "text/plain": "(354,)"
                    },
                    "execution_count": 29,
                    "metadata": {},
                    "output_type": "execute_result"
                }
            ],
            "source": "y_train_bc.shape"
        },
        {
            "cell_type": "code",
            "execution_count": 30,
            "metadata": {},
            "outputs": [],
            "source": "lr.fit(X_train_s, y_train_bc)\nX_test_s = s.transform(X_test)\ny_pred_bc = lr.predict(X_test_s)"
        },
        {
            "cell_type": "markdown",
            "metadata": {},
            "source": "### Discussion\n\n* Are we done?\n* What did we predict?\n* How would you interpret these predictions?"
        },
        {
            "cell_type": "markdown",
            "metadata": {},
            "source": "#### Inverse transform"
        },
        {
            "cell_type": "markdown",
            "metadata": {},
            "source": "Every transformation has an inverse transformation. The inverse transformation of $f(x) = \\sqrt{x}$ is $f^{-1}(x) = x^2$, for example. Box cox has an inverse transformation as well: notice that we have to pass in the lambda value that we found from before:"
        },
        {
            "cell_type": "code",
            "execution_count": 31,
            "metadata": {},
            "outputs": [],
            "source": "from scipy.special import inv_boxcox"
        },
        {
            "cell_type": "code",
            "execution_count": 32,
            "metadata": {},
            "outputs": [
                {
                    "data": {
                        "text/plain": "0.21662091493775448"
                    },
                    "execution_count": 32,
                    "metadata": {},
                    "output_type": "execute_result"
                }
            ],
            "source": "# code from above\nbc_result = boxcox(boston_data.MEDV)\nboxcox_medv = bc_result[0]\nlam = bc_result[1]\nlam"
        },
        {
            "cell_type": "code",
            "execution_count": 33,
            "metadata": {},
            "outputs": [
                {
                    "data": {
                        "text/plain": "array([24. , 21.6, 34.7, 33.4, 36.2, 28.7, 22.9, 27.1, 16.5, 18.9])"
                    },
                    "execution_count": 33,
                    "metadata": {},
                    "output_type": "execute_result"
                }
            ],
            "source": "inv_boxcox(boxcox_medv, lam)[:10]"
        },
        {
            "cell_type": "code",
            "execution_count": 34,
            "metadata": {},
            "outputs": [
                {
                    "data": {
                        "text/plain": "array([24. , 21.6, 34.7, 33.4, 36.2, 28.7, 22.9, 27.1, 16.5, 18.9])"
                    },
                    "execution_count": 34,
                    "metadata": {},
                    "output_type": "execute_result"
                }
            ],
            "source": "boston_data['MEDV'].values[:10]"
        },
        {
            "cell_type": "markdown",
            "metadata": {},
            "source": "Exactly the same, as we would hope!"
        },
        {
            "cell_type": "markdown",
            "metadata": {},
            "source": "### Exercise:\n\n1. Apply the appropriate inverse transformation to `y_pred_bc`.\n2. Calculate the $R^2$ using the result of this inverse transformation and `y_test`.  \n\n**Hint:** Should be two lines of code."
        },
        {
            "cell_type": "code",
            "execution_count": 35,
            "metadata": {},
            "outputs": [
                {
                    "data": {
                        "text/plain": "0.8794001851246035"
                    },
                    "execution_count": 35,
                    "metadata": {},
                    "output_type": "execute_result"
                }
            ],
            "source": "y_pred_tran = inv_boxcox(y_pred_bc,lam2)\nr2_score(y_pred_tran,y_test)"
        },
        {
            "cell_type": "markdown",
            "metadata": {},
            "source": "## LAB Exercise: \n\n### Determine the R^2 of a LinearRegression without the box cox transformation. Is it higher or lower?"
        },
        {
            "cell_type": "code",
            "execution_count": 36,
            "metadata": {},
            "outputs": [
                {
                    "data": {
                        "text/plain": "0.8555202098064144"
                    },
                    "execution_count": 36,
                    "metadata": {},
                    "output_type": "execute_result"
                }
            ],
            "source": "### BEGIN SOLUTION\nlr = LinearRegression()\nlr.fit(X_train_s,y_train)\nlr_pred = lr.predict(X_test_s)\nr2_score(lr_pred,y_test)\n### END SOLUTION"
        },
        {
            "cell_type": "markdown",
            "metadata": {},
            "source": "---\n### Machine Learning Foundation (C) 2020 IBM Corporation"
        }
    ],
    "metadata": {
        "kernelspec": {
            "display_name": "Python 3.6",
            "language": "python",
            "name": "python3"
        },
        "language_info": {
            "codemirror_mode": {
                "name": "ipython",
                "version": 3
            },
            "file_extension": ".py",
            "mimetype": "text/x-python",
            "name": "python",
            "nbconvert_exporter": "python",
            "pygments_lexer": "ipython3",
            "version": "3.6.9"
        }
    },
    "nbformat": 4,
    "nbformat_minor": 4
}